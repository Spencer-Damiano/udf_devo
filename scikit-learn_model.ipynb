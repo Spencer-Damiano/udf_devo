{
 "cells": [
  {
   "cell_type": "markdown",
   "metadata": {
    "application/vnd.databricks.v1+cell": {
     "cellMetadata": {},
     "inputWidgets": {},
     "nuid": "276b3653-a42c-4c1e-88f3-75ce34a60501",
     "showTitle": false,
     "tableResultSettingsMap": {},
     "title": ""
    }
   },
   "source": [
    "### Spark mllib coding devotional"
   ]
  },
  {
   "cell_type": "markdown",
   "metadata": {
    "application/vnd.databricks.v1+cell": {
     "cellMetadata": {},
     "inputWidgets": {},
     "nuid": "6ab26bc7-99ce-499d-8068-a34bad297e11",
     "showTitle": false,
     "tableResultSettingsMap": {},
     "title": ""
    }
   },
   "source": [
    "#### learning goal:\n",
    "- Understand basic model building with the mllib library\n",
    "- Understand key differences from Scikit-learn"
   ]
  },
  {
   "cell_type": "markdown",
   "metadata": {
    "application/vnd.databricks.v1+cell": {
     "cellMetadata": {},
     "inputWidgets": {},
     "nuid": "e2926310-fb8d-43a3-a480-4266cf26cbf6",
     "showTitle": false,
     "tableResultSettingsMap": {},
     "title": ""
    }
   },
   "source": []
  },
  {
   "cell_type": "markdown",
   "metadata": {
    "application/vnd.databricks.v1+cell": {
     "cellMetadata": {},
     "inputWidgets": {},
     "nuid": "fecb27d6-73bf-40a3-822f-97aca8c29a18",
     "showTitle": false,
     "tableResultSettingsMap": {},
     "title": ""
    }
   },
   "source": [
    "#### Building an XGBoost Model: Spark vs Python"
   ]
  },
  {
   "cell_type": "markdown",
   "metadata": {
    "application/vnd.databricks.v1+cell": {
     "cellMetadata": {},
     "inputWidgets": {},
     "nuid": "741d7ae7-2d3b-490e-9825-39253bf66980",
     "showTitle": false,
     "tableResultSettingsMap": {},
     "title": ""
    }
   },
   "source": [
    "import necessary tools"
   ]
  },
  {
   "cell_type": "code",
   "execution_count": 2,
   "metadata": {
    "application/vnd.databricks.v1+cell": {
     "cellMetadata": {
      "byteLimit": 2048000,
      "rowLimit": 10000
     },
     "inputWidgets": {},
     "nuid": "52589937-b2dc-4314-ba06-49ee4d7bff58",
     "showTitle": false,
     "tableResultSettingsMap": {},
     "title": ""
    }
   },
   "outputs": [
    {
     "name": "stdout",
     "output_type": "stream",
     "text": [
      "Defaulting to user installation because normal site-packages is not writeable\n",
      "Requirement already satisfied: scikit-learn in c:\\users\\spencer\\appdata\\roaming\\python\\python311\\site-packages (1.3.0)\n",
      "Requirement already satisfied: seaborn in c:\\users\\spencer\\appdata\\roaming\\python\\python311\\site-packages (0.12.2)\n",
      "Requirement already satisfied: matplotlib in c:\\users\\spencer\\appdata\\roaming\\python\\python311\\site-packages (3.7.2)\n",
      "Requirement already satisfied: xgboost in c:\\users\\spencer\\appdata\\roaming\\python\\python311\\site-packages (3.0.0)\n",
      "Requirement already satisfied: pandas in c:\\users\\spencer\\appdata\\roaming\\python\\python311\\site-packages (2.0.3)\n",
      "Requirement already satisfied: numpy in c:\\users\\spencer\\appdata\\roaming\\python\\python311\\site-packages (1.24.3)\n",
      "Requirement already satisfied: plotly in c:\\users\\spencer\\appdata\\roaming\\python\\python311\\site-packages (5.24.1)\n",
      "Requirement already satisfied: scipy>=1.5.0 in c:\\users\\spencer\\appdata\\roaming\\python\\python311\\site-packages (from scikit-learn) (1.11.2)\n",
      "Requirement already satisfied: joblib>=1.1.1 in c:\\users\\spencer\\appdata\\roaming\\python\\python311\\site-packages (from scikit-learn) (1.3.2)\n",
      "Requirement already satisfied: threadpoolctl>=2.0.0 in c:\\users\\spencer\\appdata\\roaming\\python\\python311\\site-packages (from scikit-learn) (3.2.0)\n",
      "Requirement already satisfied: contourpy>=1.0.1 in c:\\users\\spencer\\appdata\\roaming\\python\\python311\\site-packages (from matplotlib) (1.1.0)\n",
      "Requirement already satisfied: cycler>=0.10 in c:\\users\\spencer\\appdata\\roaming\\python\\python311\\site-packages (from matplotlib) (0.11.0)\n",
      "Requirement already satisfied: fonttools>=4.22.0 in c:\\users\\spencer\\appdata\\roaming\\python\\python311\\site-packages (from matplotlib) (4.40.0)\n",
      "Requirement already satisfied: kiwisolver>=1.0.1 in c:\\users\\spencer\\appdata\\roaming\\python\\python311\\site-packages (from matplotlib) (1.4.4)\n",
      "Requirement already satisfied: packaging>=20.0 in c:\\users\\spencer\\appdata\\roaming\\python\\python311\\site-packages (from matplotlib) (23.1)\n",
      "Requirement already satisfied: pillow>=6.2.0 in c:\\users\\spencer\\appdata\\roaming\\python\\python311\\site-packages (from matplotlib) (9.3.0)\n",
      "Requirement already satisfied: pyparsing<3.1,>=2.3.1 in c:\\users\\spencer\\appdata\\roaming\\python\\python311\\site-packages (from matplotlib) (3.0.9)\n",
      "Requirement already satisfied: python-dateutil>=2.7 in c:\\users\\spencer\\appdata\\roaming\\python\\python311\\site-packages (from matplotlib) (2.8.2)\n",
      "Requirement already satisfied: pytz>=2020.1 in c:\\users\\spencer\\appdata\\roaming\\python\\python311\\site-packages (from pandas) (2023.3.post1)\n",
      "Requirement already satisfied: tzdata>=2022.1 in c:\\users\\spencer\\appdata\\roaming\\python\\python311\\site-packages (from pandas) (2023.3)\n",
      "Requirement already satisfied: tenacity>=6.2.0 in c:\\users\\spencer\\appdata\\roaming\\python\\python311\\site-packages (from plotly) (9.0.0)\n",
      "Requirement already satisfied: six>=1.5 in c:\\users\\spencer\\appdata\\roaming\\python\\python311\\site-packages (from python-dateutil>=2.7->matplotlib) (1.16.0)\n"
     ]
    },
    {
     "name": "stderr",
     "output_type": "stream",
     "text": [
      "\n",
      "[notice] A new release of pip is available: 23.2.1 -> 25.0.1\n",
      "[notice] To update, run: python.exe -m pip install --upgrade pip\n"
     ]
    },
    {
     "name": "stdout",
     "output_type": "stream",
     "text": [
      "Defaulting to user installation because normal site-packages is not writeable\n",
      "Requirement already satisfied: lets-plot in c:\\users\\spencer\\appdata\\roaming\\python\\python311\\site-packages (4.5.2)\n",
      "Requirement already satisfied: pypng in c:\\users\\spencer\\appdata\\roaming\\python\\python311\\site-packages (from lets-plot) (0.20220715.0)\n",
      "Requirement already satisfied: palettable in c:\\users\\spencer\\appdata\\roaming\\python\\python311\\site-packages (from lets-plot) (3.3.3)\n"
     ]
    },
    {
     "name": "stderr",
     "output_type": "stream",
     "text": [
      "\n",
      "[notice] A new release of pip is available: 23.2.1 -> 25.0.1\n",
      "[notice] To update, run: python.exe -m pip install --upgrade pip\n"
     ]
    }
   ],
   "source": [
    "#SCIKIT & other necessary libraries\n",
    "!pip install scikit-learn seaborn matplotlib xgboost pandas numpy plotly\n",
    "!pip install lets-plot"
   ]
  },
  {
   "cell_type": "code",
   "execution_count": 3,
   "metadata": {
    "application/vnd.databricks.v1+cell": {
     "cellMetadata": {
      "byteLimit": 2048000,
      "rowLimit": 10000
     },
     "inputWidgets": {},
     "nuid": "7536c6b2-9fed-4dcb-bd08-640fee4a5819",
     "showTitle": false,
     "tableResultSettingsMap": {},
     "title": ""
    }
   },
   "outputs": [
    {
     "name": "stdout",
     "output_type": "stream",
     "text": [
      "Defaulting to user installation because normal site-packages is not writeable\n",
      "Requirement already satisfied: lets-plot in c:\\users\\spencer\\appdata\\roaming\\python\\python311\\site-packages (4.5.2)\n",
      "Requirement already satisfied: pypng in c:\\users\\spencer\\appdata\\roaming\\python\\python311\\site-packages (from lets-plot) (0.20220715.0)\n",
      "Requirement already satisfied: palettable in c:\\users\\spencer\\appdata\\roaming\\python\\python311\\site-packages (from lets-plot) (3.3.3)\n"
     ]
    },
    {
     "name": "stderr",
     "output_type": "stream",
     "text": [
      "\n",
      "[notice] A new release of pip is available: 23.2.1 -> 25.0.1\n",
      "[notice] To update, run: python.exe -m pip install --upgrade pip\n"
     ]
    },
    {
     "data": {
      "text/html": [
       "\n",
       "            <div id=\"EjL4mw\"></div>\n",
       "            <script type=\"text/javascript\" data-lets-plot-script=\"library\">\n",
       "                if(!window.letsPlotCallQueue) {\n",
       "                    window.letsPlotCallQueue = [];\n",
       "                }; \n",
       "                window.letsPlotCall = function(f) {\n",
       "                    window.letsPlotCallQueue.push(f);\n",
       "                };\n",
       "                (function() {\n",
       "                    var script = document.createElement(\"script\");\n",
       "                    script.type = \"text/javascript\";\n",
       "                    script.src = \"https://cdn.jsdelivr.net/gh/JetBrains/lets-plot@v4.5.2/js-package/distr/lets-plot.min.js\";\n",
       "                    script.onload = function() {\n",
       "                        window.letsPlotCall = function(f) {f();};\n",
       "                        window.letsPlotCallQueue.forEach(function(f) {f();});\n",
       "                        window.letsPlotCallQueue = [];\n",
       "                        \n",
       "                    };\n",
       "                    script.onerror = function(event) {\n",
       "                        window.letsPlotCall = function(f) {};    // noop\n",
       "                        window.letsPlotCallQueue = [];\n",
       "                        var div = document.createElement(\"div\");\n",
       "                        div.style.color = 'darkred';\n",
       "                        div.textContent = 'Error loading Lets-Plot JS';\n",
       "                        document.getElementById(\"EjL4mw\").appendChild(div);\n",
       "                    };\n",
       "                    var e = document.getElementById(\"EjL4mw\");\n",
       "                    e.appendChild(script);\n",
       "                })()\n",
       "            </script>\n",
       "            "
      ]
     },
     "metadata": {},
     "output_type": "display_data"
    }
   ],
   "source": [
    "# PYTHON - SCIKIT / Pandas\n",
    "\n",
    "# import skikit.learn (sklearn) models, functions and preprocessing code\n",
    "from sklearn import tree\n",
    "from sklearn.ensemble import RandomForestClassifier \n",
    "\n",
    "from sklearn.preprocessing import OneHotEncoder \n",
    "from sklearn.model_selection import train_test_split \n",
    "\n",
    "from sklearn import metrics \n",
    "from sklearn.metrics import (accuracy_score,\n",
    "                             classification_report,\n",
    "                             mean_squared_error,\n",
    "                             mean_absolute_error,\n",
    "                             r2_score,\n",
    "                             confusion_matrix,\n",
    "                             accuracy_score,\n",
    "                             precision_score)\n",
    "\n",
    "# import the model and hyperparameter tuning functions\n",
    "from xgboost import XGBRegressor\n",
    "from sklearn.model_selection import GridSearchCV\n",
    "from sklearn.model_selection import GroupKFold\n",
    "from sklearn.model_selection import LeavePOut\n",
    "\n",
    "# Visualization\n",
    "!pip install lets-plot\n",
    "from lets_plot import *\n",
    "LetsPlot.setup_html()\n",
    "\n",
    "import pandas as pd\n",
    "import numpy as np\n",
    "import matplotlib.pyplot as plt\n",
    "import plotly.express as px"
   ]
  },
  {
   "cell_type": "markdown",
   "metadata": {
    "application/vnd.databricks.v1+cell": {
     "cellMetadata": {},
     "inputWidgets": {},
     "nuid": "d5f6504d-c93d-4f8a-b66d-7b7763d51a91",
     "showTitle": false,
     "tableResultSettingsMap": {},
     "title": ""
    }
   },
   "source": [
    "load dataset"
   ]
  },
  {
   "cell_type": "code",
   "execution_count": 4,
   "metadata": {
    "application/vnd.databricks.v1+cell": {
     "cellMetadata": {
      "byteLimit": 2048000,
      "rowLimit": 10000
     },
     "inputWidgets": {},
     "nuid": "3ef9a5c3-5dfa-466f-a37f-f856ed1c7f7f",
     "showTitle": false,
     "tableResultSettingsMap": {},
     "title": ""
    }
   },
   "outputs": [],
   "source": [
    "# PYTHON - Pandas\n",
    "df = pd.read_csv('https://raw.githubusercontent.com/byui-cse/cse450-course/master/data/housing.csv')\n",
    "df.drop('date', axis=1, inplace=True) # remove this column, it messes with the model we are using\n",
    "df = df.query('bedrooms <= 12') #there is a house that has an absurd number of rooms so we need to remove it as an outlier"
   ]
  },
  {
   "cell_type": "code",
   "execution_count": 16,
   "metadata": {
    "application/vnd.databricks.v1+cell": {
     "cellMetadata": {
      "byteLimit": 2048000,
      "rowLimit": 10000
     },
     "inputWidgets": {},
     "nuid": "bcde5308-1b43-435e-a75b-a1ed3344b7af",
     "showTitle": false,
     "tableResultSettingsMap": {},
     "title": ""
    }
   },
   "outputs": [
    {
     "data": {
      "text/html": [
       "<div>\n",
       "<style scoped>\n",
       "    .dataframe tbody tr th:only-of-type {\n",
       "        vertical-align: middle;\n",
       "    }\n",
       "\n",
       "    .dataframe tbody tr th {\n",
       "        vertical-align: top;\n",
       "    }\n",
       "\n",
       "    .dataframe thead th {\n",
       "        text-align: right;\n",
       "    }\n",
       "</style>\n",
       "<table border=\"1\" class=\"dataframe\">\n",
       "  <thead>\n",
       "    <tr style=\"text-align: right;\">\n",
       "      <th></th>\n",
       "      <th>id</th>\n",
       "      <th>bedrooms</th>\n",
       "      <th>bathrooms</th>\n",
       "      <th>sqft_living</th>\n",
       "      <th>sqft_lot</th>\n",
       "      <th>floors</th>\n",
       "      <th>waterfront</th>\n",
       "      <th>view</th>\n",
       "      <th>condition</th>\n",
       "      <th>grade</th>\n",
       "      <th>sqft_above</th>\n",
       "      <th>sqft_basement</th>\n",
       "      <th>yr_built</th>\n",
       "      <th>yr_renovated</th>\n",
       "      <th>zipcode</th>\n",
       "      <th>lat</th>\n",
       "      <th>long</th>\n",
       "      <th>sqft_living15</th>\n",
       "      <th>sqft_lot15</th>\n",
       "      <th>price</th>\n",
       "    </tr>\n",
       "  </thead>\n",
       "  <tbody>\n",
       "    <tr>\n",
       "      <th>0</th>\n",
       "      <td>1565930130</td>\n",
       "      <td>4</td>\n",
       "      <td>3.25</td>\n",
       "      <td>3760</td>\n",
       "      <td>4675</td>\n",
       "      <td>2.0</td>\n",
       "      <td>0</td>\n",
       "      <td>0</td>\n",
       "      <td>3</td>\n",
       "      <td>8</td>\n",
       "      <td>2740</td>\n",
       "      <td>1020</td>\n",
       "      <td>2007</td>\n",
       "      <td>0</td>\n",
       "      <td>98038</td>\n",
       "      <td>47.3862</td>\n",
       "      <td>-122.048</td>\n",
       "      <td>3280</td>\n",
       "      <td>4033</td>\n",
       "      <td>429900.0</td>\n",
       "    </tr>\n",
       "    <tr>\n",
       "      <th>1</th>\n",
       "      <td>3279000420</td>\n",
       "      <td>3</td>\n",
       "      <td>1.75</td>\n",
       "      <td>1460</td>\n",
       "      <td>7800</td>\n",
       "      <td>1.0</td>\n",
       "      <td>0</td>\n",
       "      <td>0</td>\n",
       "      <td>2</td>\n",
       "      <td>7</td>\n",
       "      <td>1040</td>\n",
       "      <td>420</td>\n",
       "      <td>1979</td>\n",
       "      <td>0</td>\n",
       "      <td>98023</td>\n",
       "      <td>47.3035</td>\n",
       "      <td>-122.382</td>\n",
       "      <td>1310</td>\n",
       "      <td>7865</td>\n",
       "      <td>233000.0</td>\n",
       "    </tr>\n",
       "    <tr>\n",
       "      <th>2</th>\n",
       "      <td>194000575</td>\n",
       "      <td>4</td>\n",
       "      <td>1.00</td>\n",
       "      <td>1340</td>\n",
       "      <td>5800</td>\n",
       "      <td>1.5</td>\n",
       "      <td>0</td>\n",
       "      <td>2</td>\n",
       "      <td>3</td>\n",
       "      <td>7</td>\n",
       "      <td>1340</td>\n",
       "      <td>0</td>\n",
       "      <td>1914</td>\n",
       "      <td>0</td>\n",
       "      <td>98116</td>\n",
       "      <td>47.5658</td>\n",
       "      <td>-122.389</td>\n",
       "      <td>1900</td>\n",
       "      <td>5800</td>\n",
       "      <td>455000.0</td>\n",
       "    </tr>\n",
       "    <tr>\n",
       "      <th>3</th>\n",
       "      <td>2115510160</td>\n",
       "      <td>3</td>\n",
       "      <td>1.75</td>\n",
       "      <td>1440</td>\n",
       "      <td>8050</td>\n",
       "      <td>1.0</td>\n",
       "      <td>0</td>\n",
       "      <td>0</td>\n",
       "      <td>3</td>\n",
       "      <td>8</td>\n",
       "      <td>1440</td>\n",
       "      <td>0</td>\n",
       "      <td>1985</td>\n",
       "      <td>0</td>\n",
       "      <td>98023</td>\n",
       "      <td>47.3187</td>\n",
       "      <td>-122.390</td>\n",
       "      <td>1790</td>\n",
       "      <td>7488</td>\n",
       "      <td>258950.0</td>\n",
       "    </tr>\n",
       "    <tr>\n",
       "      <th>4</th>\n",
       "      <td>7522500005</td>\n",
       "      <td>2</td>\n",
       "      <td>1.50</td>\n",
       "      <td>1780</td>\n",
       "      <td>4750</td>\n",
       "      <td>1.0</td>\n",
       "      <td>0</td>\n",
       "      <td>0</td>\n",
       "      <td>4</td>\n",
       "      <td>7</td>\n",
       "      <td>1080</td>\n",
       "      <td>700</td>\n",
       "      <td>1947</td>\n",
       "      <td>0</td>\n",
       "      <td>98117</td>\n",
       "      <td>47.6859</td>\n",
       "      <td>-122.395</td>\n",
       "      <td>1690</td>\n",
       "      <td>5962</td>\n",
       "      <td>555000.0</td>\n",
       "    </tr>\n",
       "  </tbody>\n",
       "</table>\n",
       "</div>"
      ],
      "text/plain": [
       "           id  bedrooms  bathrooms  sqft_living  sqft_lot  floors  waterfront  \\\n",
       "0  1565930130         4       3.25         3760      4675     2.0           0   \n",
       "1  3279000420         3       1.75         1460      7800     1.0           0   \n",
       "2   194000575         4       1.00         1340      5800     1.5           0   \n",
       "3  2115510160         3       1.75         1440      8050     1.0           0   \n",
       "4  7522500005         2       1.50         1780      4750     1.0           0   \n",
       "\n",
       "   view  condition  grade  sqft_above  sqft_basement  yr_built  yr_renovated  \\\n",
       "0     0          3      8        2740           1020      2007             0   \n",
       "1     0          2      7        1040            420      1979             0   \n",
       "2     2          3      7        1340              0      1914             0   \n",
       "3     0          3      8        1440              0      1985             0   \n",
       "4     0          4      7        1080            700      1947             0   \n",
       "\n",
       "   zipcode      lat     long  sqft_living15  sqft_lot15     price  \n",
       "0    98038  47.3862 -122.048           3280        4033  429900.0  \n",
       "1    98023  47.3035 -122.382           1310        7865  233000.0  \n",
       "2    98116  47.5658 -122.389           1900        5800  455000.0  \n",
       "3    98023  47.3187 -122.390           1790        7488  258950.0  \n",
       "4    98117  47.6859 -122.395           1690        5962  555000.0  "
      ]
     },
     "metadata": {},
     "output_type": "display_data"
    }
   ],
   "source": [
    "df.columns\n",
    "\n",
    "display(df.head(5)) # show the first 5 rows of the data"
   ]
  },
  {
   "cell_type": "markdown",
   "metadata": {
    "application/vnd.databricks.v1+cell": {
     "cellMetadata": {},
     "inputWidgets": {},
     "nuid": "f5fa316f-5523-44c5-b64a-8e35a90a75b7",
     "showTitle": false,
     "tableResultSettingsMap": {},
     "title": ""
    }
   },
   "source": [
    "Create a regression model (reg1)"
   ]
  },
  {
   "cell_type": "code",
   "execution_count": 6,
   "metadata": {
    "application/vnd.databricks.v1+cell": {
     "cellMetadata": {
      "byteLimit": 2048000,
      "rowLimit": 10000
     },
     "inputWidgets": {},
     "nuid": "89d0172c-f7a7-4ef5-b1fb-b0dcaf3c2157",
     "showTitle": false,
     "tableResultSettingsMap": {},
     "title": ""
    }
   },
   "outputs": [
    {
     "name": "stdout",
     "output_type": "stream",
     "text": [
      "0.8698035296154463\n",
      "17579100346.97157\n",
      "68997.35462109375\n"
     ]
    }
   ],
   "source": [
    "df2 = df.copy() # don't want to mess with the original dataset\n",
    "y = df2['price'] # choose a target variable from the testing dataset\n",
    "X = df2.drop('price', axis=1) # remove the target from the testing dataset\n",
    "\n",
    "\n",
    "# Split the data into training and testing sets\n",
    "X_train, X_test, y_train, y_test = train_test_split(X, y, test_size=0.2, random_state=42)\n",
    "\n",
    "# create a baseline xgboost model\n",
    "reg1 = XGBRegressor()\n",
    "reg1.fit(X_train, y_train)\n",
    "\n",
    "# run the data through the model and check tested vs predictions\n",
    "\n",
    "y_pred = reg1.predict(X_test)\n",
    "\n",
    "#check the classification report on how the model did\n",
    "print(r2_score(y_test, y_pred))\n",
    "print(mean_squared_error(y_test, y_pred))\n",
    "print(mean_absolute_error(y_test, y_pred))\n"
   ]
  },
  {
   "cell_type": "code",
   "execution_count": 7,
   "metadata": {
    "application/vnd.databricks.v1+cell": {
     "cellMetadata": {
      "byteLimit": 2048000,
      "rowLimit": 10000
     },
     "inputWidgets": {},
     "nuid": "ae060adb-a11b-48e9-a350-342f63c5af97",
     "showTitle": false,
     "tableResultSettingsMap": {},
     "title": ""
    }
   },
   "outputs": [
    {
     "data": {
      "application/vnd.plotly.v1+json": {
       "config": {
        "plotlyServerURL": "https://plot.ly"
       },
       "data": [
        {
         "alignmentgroup": "True",
         "hovertemplate": "importance=%{x}<br>feature=%{y}<extra></extra>",
         "legendgroup": "",
         "marker": {
          "color": "#636efa",
          "pattern": {
           "shape": ""
          }
         },
         "name": "",
         "offsetgroup": "",
         "orientation": "h",
         "showlegend": false,
         "textposition": "auto",
         "type": "bar",
         "x": [
          0.39156678,
          0.19221859,
          0.13625905,
          0.06685318,
          0.05109003,
          0.037102092,
          0.02225309,
          0.02216649,
          0.01901752,
          0.013276762,
          0.008345245,
          0.007397085,
          0.0071471264,
          0.005974936,
          0.005074232,
          0.0040708687,
          0.0038190628,
          0.00338587,
          0.0029820409
         ],
         "xaxis": "x",
         "y": [
          "grade",
          "waterfront",
          "sqft_living",
          "lat",
          "view",
          "long",
          "yr_built",
          "bathrooms",
          "sqft_living15",
          "zipcode",
          "yr_renovated",
          "sqft_above",
          "condition",
          "sqft_lot",
          "sqft_lot15",
          "sqft_basement",
          "floors",
          "bedrooms",
          "id"
         ],
         "yaxis": "y"
        }
       ],
       "layout": {
        "barmode": "relative",
        "height": 800,
        "legend": {
         "tracegroupgap": 0
        },
        "template": {
         "data": {
          "bar": [
           {
            "error_x": {
             "color": "#2a3f5f"
            },
            "error_y": {
             "color": "#2a3f5f"
            },
            "marker": {
             "line": {
              "color": "#E5ECF6",
              "width": 0.5
             },
             "pattern": {
              "fillmode": "overlay",
              "size": 10,
              "solidity": 0.2
             }
            },
            "type": "bar"
           }
          ],
          "barpolar": [
           {
            "marker": {
             "line": {
              "color": "#E5ECF6",
              "width": 0.5
             },
             "pattern": {
              "fillmode": "overlay",
              "size": 10,
              "solidity": 0.2
             }
            },
            "type": "barpolar"
           }
          ],
          "carpet": [
           {
            "aaxis": {
             "endlinecolor": "#2a3f5f",
             "gridcolor": "white",
             "linecolor": "white",
             "minorgridcolor": "white",
             "startlinecolor": "#2a3f5f"
            },
            "baxis": {
             "endlinecolor": "#2a3f5f",
             "gridcolor": "white",
             "linecolor": "white",
             "minorgridcolor": "white",
             "startlinecolor": "#2a3f5f"
            },
            "type": "carpet"
           }
          ],
          "choropleth": [
           {
            "colorbar": {
             "outlinewidth": 0,
             "ticks": ""
            },
            "type": "choropleth"
           }
          ],
          "contour": [
           {
            "colorbar": {
             "outlinewidth": 0,
             "ticks": ""
            },
            "colorscale": [
             [
              0,
              "#0d0887"
             ],
             [
              0.1111111111111111,
              "#46039f"
             ],
             [
              0.2222222222222222,
              "#7201a8"
             ],
             [
              0.3333333333333333,
              "#9c179e"
             ],
             [
              0.4444444444444444,
              "#bd3786"
             ],
             [
              0.5555555555555556,
              "#d8576b"
             ],
             [
              0.6666666666666666,
              "#ed7953"
             ],
             [
              0.7777777777777778,
              "#fb9f3a"
             ],
             [
              0.8888888888888888,
              "#fdca26"
             ],
             [
              1,
              "#f0f921"
             ]
            ],
            "type": "contour"
           }
          ],
          "contourcarpet": [
           {
            "colorbar": {
             "outlinewidth": 0,
             "ticks": ""
            },
            "type": "contourcarpet"
           }
          ],
          "heatmap": [
           {
            "colorbar": {
             "outlinewidth": 0,
             "ticks": ""
            },
            "colorscale": [
             [
              0,
              "#0d0887"
             ],
             [
              0.1111111111111111,
              "#46039f"
             ],
             [
              0.2222222222222222,
              "#7201a8"
             ],
             [
              0.3333333333333333,
              "#9c179e"
             ],
             [
              0.4444444444444444,
              "#bd3786"
             ],
             [
              0.5555555555555556,
              "#d8576b"
             ],
             [
              0.6666666666666666,
              "#ed7953"
             ],
             [
              0.7777777777777778,
              "#fb9f3a"
             ],
             [
              0.8888888888888888,
              "#fdca26"
             ],
             [
              1,
              "#f0f921"
             ]
            ],
            "type": "heatmap"
           }
          ],
          "heatmapgl": [
           {
            "colorbar": {
             "outlinewidth": 0,
             "ticks": ""
            },
            "colorscale": [
             [
              0,
              "#0d0887"
             ],
             [
              0.1111111111111111,
              "#46039f"
             ],
             [
              0.2222222222222222,
              "#7201a8"
             ],
             [
              0.3333333333333333,
              "#9c179e"
             ],
             [
              0.4444444444444444,
              "#bd3786"
             ],
             [
              0.5555555555555556,
              "#d8576b"
             ],
             [
              0.6666666666666666,
              "#ed7953"
             ],
             [
              0.7777777777777778,
              "#fb9f3a"
             ],
             [
              0.8888888888888888,
              "#fdca26"
             ],
             [
              1,
              "#f0f921"
             ]
            ],
            "type": "heatmapgl"
           }
          ],
          "histogram": [
           {
            "marker": {
             "pattern": {
              "fillmode": "overlay",
              "size": 10,
              "solidity": 0.2
             }
            },
            "type": "histogram"
           }
          ],
          "histogram2d": [
           {
            "colorbar": {
             "outlinewidth": 0,
             "ticks": ""
            },
            "colorscale": [
             [
              0,
              "#0d0887"
             ],
             [
              0.1111111111111111,
              "#46039f"
             ],
             [
              0.2222222222222222,
              "#7201a8"
             ],
             [
              0.3333333333333333,
              "#9c179e"
             ],
             [
              0.4444444444444444,
              "#bd3786"
             ],
             [
              0.5555555555555556,
              "#d8576b"
             ],
             [
              0.6666666666666666,
              "#ed7953"
             ],
             [
              0.7777777777777778,
              "#fb9f3a"
             ],
             [
              0.8888888888888888,
              "#fdca26"
             ],
             [
              1,
              "#f0f921"
             ]
            ],
            "type": "histogram2d"
           }
          ],
          "histogram2dcontour": [
           {
            "colorbar": {
             "outlinewidth": 0,
             "ticks": ""
            },
            "colorscale": [
             [
              0,
              "#0d0887"
             ],
             [
              0.1111111111111111,
              "#46039f"
             ],
             [
              0.2222222222222222,
              "#7201a8"
             ],
             [
              0.3333333333333333,
              "#9c179e"
             ],
             [
              0.4444444444444444,
              "#bd3786"
             ],
             [
              0.5555555555555556,
              "#d8576b"
             ],
             [
              0.6666666666666666,
              "#ed7953"
             ],
             [
              0.7777777777777778,
              "#fb9f3a"
             ],
             [
              0.8888888888888888,
              "#fdca26"
             ],
             [
              1,
              "#f0f921"
             ]
            ],
            "type": "histogram2dcontour"
           }
          ],
          "mesh3d": [
           {
            "colorbar": {
             "outlinewidth": 0,
             "ticks": ""
            },
            "type": "mesh3d"
           }
          ],
          "parcoords": [
           {
            "line": {
             "colorbar": {
              "outlinewidth": 0,
              "ticks": ""
             }
            },
            "type": "parcoords"
           }
          ],
          "pie": [
           {
            "automargin": true,
            "type": "pie"
           }
          ],
          "scatter": [
           {
            "fillpattern": {
             "fillmode": "overlay",
             "size": 10,
             "solidity": 0.2
            },
            "type": "scatter"
           }
          ],
          "scatter3d": [
           {
            "line": {
             "colorbar": {
              "outlinewidth": 0,
              "ticks": ""
             }
            },
            "marker": {
             "colorbar": {
              "outlinewidth": 0,
              "ticks": ""
             }
            },
            "type": "scatter3d"
           }
          ],
          "scattercarpet": [
           {
            "marker": {
             "colorbar": {
              "outlinewidth": 0,
              "ticks": ""
             }
            },
            "type": "scattercarpet"
           }
          ],
          "scattergeo": [
           {
            "marker": {
             "colorbar": {
              "outlinewidth": 0,
              "ticks": ""
             }
            },
            "type": "scattergeo"
           }
          ],
          "scattergl": [
           {
            "marker": {
             "colorbar": {
              "outlinewidth": 0,
              "ticks": ""
             }
            },
            "type": "scattergl"
           }
          ],
          "scattermapbox": [
           {
            "marker": {
             "colorbar": {
              "outlinewidth": 0,
              "ticks": ""
             }
            },
            "type": "scattermapbox"
           }
          ],
          "scatterpolar": [
           {
            "marker": {
             "colorbar": {
              "outlinewidth": 0,
              "ticks": ""
             }
            },
            "type": "scatterpolar"
           }
          ],
          "scatterpolargl": [
           {
            "marker": {
             "colorbar": {
              "outlinewidth": 0,
              "ticks": ""
             }
            },
            "type": "scatterpolargl"
           }
          ],
          "scatterternary": [
           {
            "marker": {
             "colorbar": {
              "outlinewidth": 0,
              "ticks": ""
             }
            },
            "type": "scatterternary"
           }
          ],
          "surface": [
           {
            "colorbar": {
             "outlinewidth": 0,
             "ticks": ""
            },
            "colorscale": [
             [
              0,
              "#0d0887"
             ],
             [
              0.1111111111111111,
              "#46039f"
             ],
             [
              0.2222222222222222,
              "#7201a8"
             ],
             [
              0.3333333333333333,
              "#9c179e"
             ],
             [
              0.4444444444444444,
              "#bd3786"
             ],
             [
              0.5555555555555556,
              "#d8576b"
             ],
             [
              0.6666666666666666,
              "#ed7953"
             ],
             [
              0.7777777777777778,
              "#fb9f3a"
             ],
             [
              0.8888888888888888,
              "#fdca26"
             ],
             [
              1,
              "#f0f921"
             ]
            ],
            "type": "surface"
           }
          ],
          "table": [
           {
            "cells": {
             "fill": {
              "color": "#EBF0F8"
             },
             "line": {
              "color": "white"
             }
            },
            "header": {
             "fill": {
              "color": "#C8D4E3"
             },
             "line": {
              "color": "white"
             }
            },
            "type": "table"
           }
          ]
         },
         "layout": {
          "annotationdefaults": {
           "arrowcolor": "#2a3f5f",
           "arrowhead": 0,
           "arrowwidth": 1
          },
          "autotypenumbers": "strict",
          "coloraxis": {
           "colorbar": {
            "outlinewidth": 0,
            "ticks": ""
           }
          },
          "colorscale": {
           "diverging": [
            [
             0,
             "#8e0152"
            ],
            [
             0.1,
             "#c51b7d"
            ],
            [
             0.2,
             "#de77ae"
            ],
            [
             0.3,
             "#f1b6da"
            ],
            [
             0.4,
             "#fde0ef"
            ],
            [
             0.5,
             "#f7f7f7"
            ],
            [
             0.6,
             "#e6f5d0"
            ],
            [
             0.7,
             "#b8e186"
            ],
            [
             0.8,
             "#7fbc41"
            ],
            [
             0.9,
             "#4d9221"
            ],
            [
             1,
             "#276419"
            ]
           ],
           "sequential": [
            [
             0,
             "#0d0887"
            ],
            [
             0.1111111111111111,
             "#46039f"
            ],
            [
             0.2222222222222222,
             "#7201a8"
            ],
            [
             0.3333333333333333,
             "#9c179e"
            ],
            [
             0.4444444444444444,
             "#bd3786"
            ],
            [
             0.5555555555555556,
             "#d8576b"
            ],
            [
             0.6666666666666666,
             "#ed7953"
            ],
            [
             0.7777777777777778,
             "#fb9f3a"
            ],
            [
             0.8888888888888888,
             "#fdca26"
            ],
            [
             1,
             "#f0f921"
            ]
           ],
           "sequentialminus": [
            [
             0,
             "#0d0887"
            ],
            [
             0.1111111111111111,
             "#46039f"
            ],
            [
             0.2222222222222222,
             "#7201a8"
            ],
            [
             0.3333333333333333,
             "#9c179e"
            ],
            [
             0.4444444444444444,
             "#bd3786"
            ],
            [
             0.5555555555555556,
             "#d8576b"
            ],
            [
             0.6666666666666666,
             "#ed7953"
            ],
            [
             0.7777777777777778,
             "#fb9f3a"
            ],
            [
             0.8888888888888888,
             "#fdca26"
            ],
            [
             1,
             "#f0f921"
            ]
           ]
          },
          "colorway": [
           "#636efa",
           "#EF553B",
           "#00cc96",
           "#ab63fa",
           "#FFA15A",
           "#19d3f3",
           "#FF6692",
           "#B6E880",
           "#FF97FF",
           "#FECB52"
          ],
          "font": {
           "color": "#2a3f5f"
          },
          "geo": {
           "bgcolor": "white",
           "lakecolor": "white",
           "landcolor": "#E5ECF6",
           "showlakes": true,
           "showland": true,
           "subunitcolor": "white"
          },
          "hoverlabel": {
           "align": "left"
          },
          "hovermode": "closest",
          "mapbox": {
           "style": "light"
          },
          "paper_bgcolor": "white",
          "plot_bgcolor": "#E5ECF6",
          "polar": {
           "angularaxis": {
            "gridcolor": "white",
            "linecolor": "white",
            "ticks": ""
           },
           "bgcolor": "#E5ECF6",
           "radialaxis": {
            "gridcolor": "white",
            "linecolor": "white",
            "ticks": ""
           }
          },
          "scene": {
           "xaxis": {
            "backgroundcolor": "#E5ECF6",
            "gridcolor": "white",
            "gridwidth": 2,
            "linecolor": "white",
            "showbackground": true,
            "ticks": "",
            "zerolinecolor": "white"
           },
           "yaxis": {
            "backgroundcolor": "#E5ECF6",
            "gridcolor": "white",
            "gridwidth": 2,
            "linecolor": "white",
            "showbackground": true,
            "ticks": "",
            "zerolinecolor": "white"
           },
           "zaxis": {
            "backgroundcolor": "#E5ECF6",
            "gridcolor": "white",
            "gridwidth": 2,
            "linecolor": "white",
            "showbackground": true,
            "ticks": "",
            "zerolinecolor": "white"
           }
          },
          "shapedefaults": {
           "line": {
            "color": "#2a3f5f"
           }
          },
          "ternary": {
           "aaxis": {
            "gridcolor": "white",
            "linecolor": "white",
            "ticks": ""
           },
           "baxis": {
            "gridcolor": "white",
            "linecolor": "white",
            "ticks": ""
           },
           "bgcolor": "#E5ECF6",
           "caxis": {
            "gridcolor": "white",
            "linecolor": "white",
            "ticks": ""
           }
          },
          "title": {
           "x": 0.05
          },
          "xaxis": {
           "automargin": true,
           "gridcolor": "white",
           "linecolor": "white",
           "ticks": "",
           "title": {
            "standoff": 15
           },
           "zerolinecolor": "white",
           "zerolinewidth": 2
          },
          "yaxis": {
           "automargin": true,
           "gridcolor": "white",
           "linecolor": "white",
           "ticks": "",
           "title": {
            "standoff": 15
           },
           "zerolinecolor": "white",
           "zerolinewidth": 2
          }
         }
        },
        "title": {
         "text": "Feature Importances in Base XGBoost Model"
        },
        "xaxis": {
         "anchor": "y",
         "domain": [
          0,
          1
         ],
         "title": {
          "text": "importance"
         }
        },
        "yaxis": {
         "anchor": "x",
         "domain": [
          0,
          1
         ],
         "title": {
          "text": "feature"
         }
        }
       }
      }
     },
     "metadata": {},
     "output_type": "display_data"
    }
   ],
   "source": [
    "# Get feature importances\n",
    "importances = reg1.feature_importances_\n",
    "feature_names = X.columns\n",
    "\n",
    "# Create a DataFrame for visualization\n",
    "importance_df = pd.DataFrame({'feature': feature_names, 'importance': importances})\n",
    "\n",
    "# Sort the DataFrame by importance\n",
    "importance_df = importance_df.sort_values(by='importance', ascending=False)\n",
    "\n",
    "# print(importance_df) #(add this line to see exact values for the features)\n",
    "\n",
    "features = px.bar(importance_df,\n",
    "                  x='importance',\n",
    "                  y='feature',\n",
    "                  orientation='h',\n",
    "                  title='Feature Importances in Base XGBoost Model',\n",
    "                  height= 800)\n",
    "features.show()"
   ]
  },
  {
   "cell_type": "markdown",
   "metadata": {
    "application/vnd.databricks.v1+cell": {
     "cellMetadata": {},
     "inputWidgets": {},
     "nuid": "8a3838c4-ad40-4296-9892-56ca46cdb00b",
     "showTitle": false,
     "tableResultSettingsMap": {},
     "title": ""
    }
   },
   "source": [
    "hyperparameter tuning / k-fold validation to prep for model2:"
   ]
  },
  {
   "cell_type": "code",
   "execution_count": 8,
   "metadata": {
    "application/vnd.databricks.v1+cell": {
     "cellMetadata": {
      "byteLimit": 2048000,
      "rowLimit": 10000
     },
     "inputWidgets": {},
     "nuid": "4c482e50-1d55-4dcb-9484-8d8de3dc0791",
     "showTitle": false,
     "tableResultSettingsMap": {},
     "title": ""
    }
   },
   "outputs": [
    {
     "name": "stdout",
     "output_type": "stream",
     "text": [
      "Fitting 3 folds for each of 24 candidates, totalling 72 fits\n"
     ]
    },
    {
     "data": {
      "text/html": [
       "<style>#sk-container-id-1 {color: black;}#sk-container-id-1 pre{padding: 0;}#sk-container-id-1 div.sk-toggleable {background-color: white;}#sk-container-id-1 label.sk-toggleable__label {cursor: pointer;display: block;width: 100%;margin-bottom: 0;padding: 0.3em;box-sizing: border-box;text-align: center;}#sk-container-id-1 label.sk-toggleable__label-arrow:before {content: \"▸\";float: left;margin-right: 0.25em;color: #696969;}#sk-container-id-1 label.sk-toggleable__label-arrow:hover:before {color: black;}#sk-container-id-1 div.sk-estimator:hover label.sk-toggleable__label-arrow:before {color: black;}#sk-container-id-1 div.sk-toggleable__content {max-height: 0;max-width: 0;overflow: hidden;text-align: left;background-color: #f0f8ff;}#sk-container-id-1 div.sk-toggleable__content pre {margin: 0.2em;color: black;border-radius: 0.25em;background-color: #f0f8ff;}#sk-container-id-1 input.sk-toggleable__control:checked~div.sk-toggleable__content {max-height: 200px;max-width: 100%;overflow: auto;}#sk-container-id-1 input.sk-toggleable__control:checked~label.sk-toggleable__label-arrow:before {content: \"▾\";}#sk-container-id-1 div.sk-estimator input.sk-toggleable__control:checked~label.sk-toggleable__label {background-color: #d4ebff;}#sk-container-id-1 div.sk-label input.sk-toggleable__control:checked~label.sk-toggleable__label {background-color: #d4ebff;}#sk-container-id-1 input.sk-hidden--visually {border: 0;clip: rect(1px 1px 1px 1px);clip: rect(1px, 1px, 1px, 1px);height: 1px;margin: -1px;overflow: hidden;padding: 0;position: absolute;width: 1px;}#sk-container-id-1 div.sk-estimator {font-family: monospace;background-color: #f0f8ff;border: 1px dotted black;border-radius: 0.25em;box-sizing: border-box;margin-bottom: 0.5em;}#sk-container-id-1 div.sk-estimator:hover {background-color: #d4ebff;}#sk-container-id-1 div.sk-parallel-item::after {content: \"\";width: 100%;border-bottom: 1px solid gray;flex-grow: 1;}#sk-container-id-1 div.sk-label:hover label.sk-toggleable__label {background-color: #d4ebff;}#sk-container-id-1 div.sk-serial::before {content: \"\";position: absolute;border-left: 1px solid gray;box-sizing: border-box;top: 0;bottom: 0;left: 50%;z-index: 0;}#sk-container-id-1 div.sk-serial {display: flex;flex-direction: column;align-items: center;background-color: white;padding-right: 0.2em;padding-left: 0.2em;position: relative;}#sk-container-id-1 div.sk-item {position: relative;z-index: 1;}#sk-container-id-1 div.sk-parallel {display: flex;align-items: stretch;justify-content: center;background-color: white;position: relative;}#sk-container-id-1 div.sk-item::before, #sk-container-id-1 div.sk-parallel-item::before {content: \"\";position: absolute;border-left: 1px solid gray;box-sizing: border-box;top: 0;bottom: 0;left: 50%;z-index: -1;}#sk-container-id-1 div.sk-parallel-item {display: flex;flex-direction: column;z-index: 1;position: relative;background-color: white;}#sk-container-id-1 div.sk-parallel-item:first-child::after {align-self: flex-end;width: 50%;}#sk-container-id-1 div.sk-parallel-item:last-child::after {align-self: flex-start;width: 50%;}#sk-container-id-1 div.sk-parallel-item:only-child::after {width: 0;}#sk-container-id-1 div.sk-dashed-wrapped {border: 1px dashed gray;margin: 0 0.4em 0.5em 0.4em;box-sizing: border-box;padding-bottom: 0.4em;background-color: white;}#sk-container-id-1 div.sk-label label {font-family: monospace;font-weight: bold;display: inline-block;line-height: 1.2em;}#sk-container-id-1 div.sk-label-container {text-align: center;}#sk-container-id-1 div.sk-container {/* jupyter's `normalize.less` sets `[hidden] { display: none; }` but bootstrap.min.css set `[hidden] { display: none !important; }` so we also need the `!important` here to be able to override the default hidden behavior on the sphinx rendered scikit-learn.org. See: https://github.com/scikit-learn/scikit-learn/issues/21755 */display: inline-block !important;position: relative;}#sk-container-id-1 div.sk-text-repr-fallback {display: none;}</style><div id=\"sk-container-id-1\" class=\"sk-top-container\"><div class=\"sk-text-repr-fallback\"><pre>GridSearchCV(cv=3,\n",
       "             estimator=XGBRegressor(base_score=None, booster=None,\n",
       "                                    callbacks=None, colsample_bylevel=None,\n",
       "                                    colsample_bynode=None,\n",
       "                                    colsample_bytree=None, device=None,\n",
       "                                    early_stopping_rounds=None,\n",
       "                                    enable_categorical=False, eval_metric=None,\n",
       "                                    feature_types=None, feature_weights=None,\n",
       "                                    gamma=None, grow_policy=None,\n",
       "                                    importance_type=None,\n",
       "                                    interaction_constraints=None...\n",
       "                                    max_cat_to_onehot=None, max_delta_step=None,\n",
       "                                    max_depth=None, max_leaves=None,\n",
       "                                    min_child_weight=None, missing=nan,\n",
       "                                    monotone_constraints=None,\n",
       "                                    multi_strategy=None, n_estimators=None,\n",
       "                                    n_jobs=None, num_parallel_tree=None, ...),\n",
       "             n_jobs=-1,\n",
       "             param_grid={&#x27;learning_rate&#x27;: [0.1, 0.15], &#x27;max_depth&#x27;: [3, 4],\n",
       "                         &#x27;n_estimators&#x27;: [100, 300],\n",
       "                         &#x27;subsample&#x27;: [0.8, 0.9, 1.0]},\n",
       "             scoring=&#x27;neg_root_mean_squared_error&#x27;, verbose=1)</pre><b>In a Jupyter environment, please rerun this cell to show the HTML representation or trust the notebook. <br />On GitHub, the HTML representation is unable to render, please try loading this page with nbviewer.org.</b></div><div class=\"sk-container\" hidden><div class=\"sk-item sk-dashed-wrapped\"><div class=\"sk-label-container\"><div class=\"sk-label sk-toggleable\"><input class=\"sk-toggleable__control sk-hidden--visually\" id=\"sk-estimator-id-1\" type=\"checkbox\" ><label for=\"sk-estimator-id-1\" class=\"sk-toggleable__label sk-toggleable__label-arrow\">GridSearchCV</label><div class=\"sk-toggleable__content\"><pre>GridSearchCV(cv=3,\n",
       "             estimator=XGBRegressor(base_score=None, booster=None,\n",
       "                                    callbacks=None, colsample_bylevel=None,\n",
       "                                    colsample_bynode=None,\n",
       "                                    colsample_bytree=None, device=None,\n",
       "                                    early_stopping_rounds=None,\n",
       "                                    enable_categorical=False, eval_metric=None,\n",
       "                                    feature_types=None, feature_weights=None,\n",
       "                                    gamma=None, grow_policy=None,\n",
       "                                    importance_type=None,\n",
       "                                    interaction_constraints=None...\n",
       "                                    max_cat_to_onehot=None, max_delta_step=None,\n",
       "                                    max_depth=None, max_leaves=None,\n",
       "                                    min_child_weight=None, missing=nan,\n",
       "                                    monotone_constraints=None,\n",
       "                                    multi_strategy=None, n_estimators=None,\n",
       "                                    n_jobs=None, num_parallel_tree=None, ...),\n",
       "             n_jobs=-1,\n",
       "             param_grid={&#x27;learning_rate&#x27;: [0.1, 0.15], &#x27;max_depth&#x27;: [3, 4],\n",
       "                         &#x27;n_estimators&#x27;: [100, 300],\n",
       "                         &#x27;subsample&#x27;: [0.8, 0.9, 1.0]},\n",
       "             scoring=&#x27;neg_root_mean_squared_error&#x27;, verbose=1)</pre></div></div></div><div class=\"sk-parallel\"><div class=\"sk-parallel-item\"><div class=\"sk-item\"><div class=\"sk-label-container\"><div class=\"sk-label sk-toggleable\"><input class=\"sk-toggleable__control sk-hidden--visually\" id=\"sk-estimator-id-2\" type=\"checkbox\" ><label for=\"sk-estimator-id-2\" class=\"sk-toggleable__label sk-toggleable__label-arrow\">estimator: XGBRegressor</label><div class=\"sk-toggleable__content\"><pre>XGBRegressor(base_score=None, booster=None, callbacks=None,\n",
       "             colsample_bylevel=None, colsample_bynode=None,\n",
       "             colsample_bytree=None, device=None, early_stopping_rounds=None,\n",
       "             enable_categorical=False, eval_metric=None, feature_types=None,\n",
       "             feature_weights=None, gamma=None, grow_policy=None,\n",
       "             importance_type=None, interaction_constraints=None,\n",
       "             learning_rate=None, max_bin=None, max_cat_threshold=None,\n",
       "             max_cat_to_onehot=None, max_delta_step=None, max_depth=None,\n",
       "             max_leaves=None, min_child_weight=None, missing=nan,\n",
       "             monotone_constraints=None, multi_strategy=None, n_estimators=None,\n",
       "             n_jobs=None, num_parallel_tree=None, ...)</pre></div></div></div><div class=\"sk-serial\"><div class=\"sk-item\"><div class=\"sk-estimator sk-toggleable\"><input class=\"sk-toggleable__control sk-hidden--visually\" id=\"sk-estimator-id-3\" type=\"checkbox\" ><label for=\"sk-estimator-id-3\" class=\"sk-toggleable__label sk-toggleable__label-arrow\">XGBRegressor</label><div class=\"sk-toggleable__content\"><pre>XGBRegressor(base_score=None, booster=None, callbacks=None,\n",
       "             colsample_bylevel=None, colsample_bynode=None,\n",
       "             colsample_bytree=None, device=None, early_stopping_rounds=None,\n",
       "             enable_categorical=False, eval_metric=None, feature_types=None,\n",
       "             feature_weights=None, gamma=None, grow_policy=None,\n",
       "             importance_type=None, interaction_constraints=None,\n",
       "             learning_rate=None, max_bin=None, max_cat_threshold=None,\n",
       "             max_cat_to_onehot=None, max_delta_step=None, max_depth=None,\n",
       "             max_leaves=None, min_child_weight=None, missing=nan,\n",
       "             monotone_constraints=None, multi_strategy=None, n_estimators=None,\n",
       "             n_jobs=None, num_parallel_tree=None, ...)</pre></div></div></div></div></div></div></div></div></div></div>"
      ],
      "text/plain": [
       "GridSearchCV(cv=3,\n",
       "             estimator=XGBRegressor(base_score=None, booster=None,\n",
       "                                    callbacks=None, colsample_bylevel=None,\n",
       "                                    colsample_bynode=None,\n",
       "                                    colsample_bytree=None, device=None,\n",
       "                                    early_stopping_rounds=None,\n",
       "                                    enable_categorical=False, eval_metric=None,\n",
       "                                    feature_types=None, feature_weights=None,\n",
       "                                    gamma=None, grow_policy=None,\n",
       "                                    importance_type=None,\n",
       "                                    interaction_constraints=None...\n",
       "                                    max_cat_to_onehot=None, max_delta_step=None,\n",
       "                                    max_depth=None, max_leaves=None,\n",
       "                                    min_child_weight=None, missing=nan,\n",
       "                                    monotone_constraints=None,\n",
       "                                    multi_strategy=None, n_estimators=None,\n",
       "                                    n_jobs=None, num_parallel_tree=None, ...),\n",
       "             n_jobs=-1,\n",
       "             param_grid={'learning_rate': [0.1, 0.15], 'max_depth': [3, 4],\n",
       "                         'n_estimators': [100, 300],\n",
       "                         'subsample': [0.8, 0.9, 1.0]},\n",
       "             scoring='neg_root_mean_squared_error', verbose=1)"
      ]
     },
     "execution_count": 8,
     "metadata": {},
     "output_type": "execute_result"
    }
   ],
   "source": [
    "# PYTHON -SCIKIT\n",
    "\n",
    "# tools used \n",
    "from xgboost import XGBRegressor\n",
    "from sklearn.model_selection import GridSearchCV\n",
    "# Define the parameter grid to search\n",
    "param_grid = {\n",
    "    'n_estimators': [100, 300],\n",
    "    'max_depth': [3, 4],\n",
    "    'learning_rate': [0.1, 0.15],\n",
    "    'subsample': [0.8, 0.9, 1.0],\n",
    "}\n",
    "\n",
    "# Set up the grid search\n",
    "grid_search = GridSearchCV(\n",
    "    estimator=reg1,\n",
    "    param_grid=param_grid,\n",
    "    scoring='neg_root_mean_squared_error', # For regression, to minimize RMSE\n",
    "    cv=3, # Cross-validation (k-fold) splitting strategy\n",
    "    verbose=1,\n",
    "    n_jobs=-1 # Use all available cores\n",
    ")\n",
    "\n",
    "# Fit the grid search\n",
    "grid_search.fit(X_train, y_train)"
   ]
  },
  {
   "cell_type": "code",
   "execution_count": 9,
   "metadata": {
    "application/vnd.databricks.v1+cell": {
     "cellMetadata": {
      "byteLimit": 2048000,
      "rowLimit": 10000
     },
     "inputWidgets": {},
     "nuid": "34a4d85a-9f7f-49e4-90dd-d200a95fc204",
     "showTitle": false,
     "tableResultSettingsMap": {},
     "title": ""
    }
   },
   "outputs": [
    {
     "name": "stdout",
     "output_type": "stream",
     "text": [
      "Best Hyperparameters: {'learning_rate': 0.15, 'max_depth': 4, 'n_estimators': 300, 'subsample': 0.8}\n",
      "Best RMSE: 122088.59645082681\n",
      "R-squared: 0.880816120135671\n"
     ]
    }
   ],
   "source": [
    "# Best parameters and model performance\n",
    "print(\"Best Hyperparameters:\", grid_search.best_params_)\n",
    "print(\"Best RMSE:\", -grid_search.best_score_)\n",
    "print(\"R-squared:\", grid_search.best_estimator_.score(X_test, y_test))"
   ]
  },
  {
   "cell_type": "markdown",
   "metadata": {
    "application/vnd.databricks.v1+cell": {
     "cellMetadata": {},
     "inputWidgets": {},
     "nuid": "f493dc58-8e63-4d1c-8254-a2be400cb0b6",
     "showTitle": false,
     "tableResultSettingsMap": {},
     "title": ""
    }
   },
   "source": [
    "Regression model when using Hyperparameter tuning (reg2)"
   ]
  },
  {
   "cell_type": "code",
   "execution_count": 10,
   "metadata": {
    "application/vnd.databricks.v1+cell": {
     "cellMetadata": {
      "byteLimit": 2048000,
      "rowLimit": 10000
     },
     "inputWidgets": {},
     "nuid": "2211d13b-2759-4b60-9309-611c3e7e348e",
     "showTitle": false,
     "tableResultSettingsMap": {},
     "title": ""
    }
   },
   "outputs": [
    {
     "name": "stdout",
     "output_type": "stream",
     "text": [
      "0.8696875377566029\n",
      "17594761543.623188\n",
      "68002.18127539063\n"
     ]
    }
   ],
   "source": [
    "# build out the model based on the best parameters\n",
    "reg2 = XGBRegressor(\n",
    "                    learning_rate = 0.15,\n",
    "                    max_depth = 4,\n",
    "                    n_estimators = 300,\n",
    "                    subsample = 1.0)\n",
    "\n",
    "# fit the model 2 xgboost model\n",
    "reg2.fit(X_train, y_train)\n",
    "\n",
    "# run the data through the model and check tested vs predictions\n",
    "\n",
    "y_pred = reg2.predict(X_test)\n",
    "\n",
    "#check the classification report on how the model did\n",
    "print(r2_score(y_test, y_pred))\n",
    "print(mean_squared_error(y_test, y_pred))\n",
    "print(mean_absolute_error(y_test, y_pred))"
   ]
  },
  {
   "cell_type": "code",
   "execution_count": 11,
   "metadata": {
    "application/vnd.databricks.v1+cell": {
     "cellMetadata": {},
     "inputWidgets": {},
     "nuid": "450821dd-469a-4c68-a250-f741c5a9453b",
     "showTitle": false,
     "tableResultSettingsMap": {},
     "title": ""
    }
   },
   "outputs": [],
   "source": [
    "# previous model scores\n",
    "# 0.8772387477317761\n",
    "# 16575198743.629103\n",
    "# 69075.43608984374"
   ]
  },
  {
   "cell_type": "code",
   "execution_count": 12,
   "metadata": {},
   "outputs": [],
   "source": [
    "import pickle\n",
    "\n",
    "with open('xgboost_model.pkl', 'wb') as model_file:\n",
    "    pickle.dump(reg2, model_file)"
   ]
  },
  {
   "cell_type": "code",
   "execution_count": 13,
   "metadata": {},
   "outputs": [
    {
     "name": "stdout",
     "output_type": "stream",
     "text": [
      "Model saved to text file 'xgb_model_string.txt'\n",
      "String length: 676484 characters\n",
      "First 100 characters of string: gASVQgMAAAAAAACMD3hnYm9vc3Quc2tsZWFybpSMDFhHQlJlZ3Jlc3NvcpSTlCmBlH2UKIwMbl9lc3RpbWF0b3JzlE0sAYwJb2Jq...\n"
     ]
    }
   ],
   "source": [
    "import pickle\n",
    "import base64\n",
    "import io\n",
    "\n",
    "# Convert the trained model to base64 string\n",
    "bytes_pickle = io.BytesIO()\n",
    "pickle.dump(reg2, bytes_pickle)\n",
    "bytes_pickle.seek(0)\n",
    "base64_str = base64.b64encode(bytes_pickle.read()).decode('utf-8')\n",
    "\n",
    "# Save to text file\n",
    "with open('xgb_model_string.txt', 'w') as f:\n",
    "    f.write(base64_str)\n",
    "\n",
    "print(f\"Model saved to text file 'xgb_model_string.txt'\")\n",
    "print(f\"String length: {len(base64_str)} characters\")\n",
    "\n",
    "# Optional: Display first 100 characters of the string\n",
    "print(f\"First 100 characters of string: {base64_str[:100]}...\")"
   ]
  },
  {
   "cell_type": "code",
   "execution_count": 14,
   "metadata": {},
   "outputs": [],
   "source": [
    "# Instead of pickle, save the model using XGBoost's native format\n",
    "reg2.save_model('xgb_model.json')\n",
    "\n",
    "# Then read the file and upload it to GitHub\n",
    "with open('xgb_model.json', 'r') as f:\n",
    "    model_json = f.read()"
   ]
  },
  {
   "cell_type": "code",
   "execution_count": 15,
   "metadata": {},
   "outputs": [
    {
     "name": "stdout",
     "output_type": "stream",
     "text": [
      "Feature Statistics for Sample Data Generation:\n",
      "--------------------------------------------------\n",
      "\n",
      "bedrooms:\n",
      "  Type: Numerical\n",
      "  Min: 0\n",
      "  Max: 11\n",
      "  Mean: 3.37\n",
      "  Std: 0.91\n",
      "\n",
      "bathrooms:\n",
      "  Type: Numerical\n",
      "  Min: 0.0\n",
      "  Max: 8.0\n",
      "  Mean: 2.12\n",
      "  Std: 0.77\n",
      "\n",
      "sqft_living:\n",
      "  Type: Numerical\n",
      "  Min: 290\n",
      "  Max: 13540\n",
      "  Mean: 2079.91\n",
      "  Std: 919.45\n",
      "\n",
      "sqft_lot:\n",
      "  Type: Numerical\n",
      "  Min: 520\n",
      "  Max: 1164794\n",
      "  Mean: 15015.78\n",
      "  Std: 39702.29\n",
      "\n",
      "floors:\n",
      "  Type: Numerical\n",
      "  Min: 1.0\n",
      "  Max: 3.5\n",
      "  Mean: 1.50\n",
      "  Std: 0.54\n",
      "\n",
      "waterfront:\n",
      "  Type: Categorical\n",
      "  Unique values: [0, 1]\n",
      "\n",
      "view:\n",
      "  Type: Categorical\n",
      "  Unique values: [0, 1, 2, 3, 4]\n",
      "\n",
      "condition:\n",
      "  Type: Categorical\n",
      "  Unique values: [1, 2, 3, 4, 5]\n",
      "\n",
      "grade:\n",
      "  Type: Categorical\n",
      "  Unique values: [1, 3, 4, 5, 6, 7, 8, 9, 10, 11, 12, 13]\n",
      "\n",
      "sqft_above:\n",
      "  Type: Numerical\n",
      "  Min: 290\n",
      "  Max: 9410\n",
      "  Mean: 1790.27\n",
      "  Std: 829.59\n",
      "\n",
      "sqft_basement:\n",
      "  Type: Numerical\n",
      "  Min: 0\n",
      "  Max: 4820\n",
      "  Mean: 289.64\n",
      "  Std: 441.54\n",
      "\n",
      "yr_built:\n",
      "  Type: Numerical\n",
      "  Min: 1900\n",
      "  Max: 2015\n",
      "  Mean: 1971.10\n",
      "  Std: 29.37\n",
      "\n",
      "yr_renovated:\n",
      "  Type: Numerical\n",
      "  Min: 0\n",
      "  Max: 2015\n",
      "  Mean: 82.74\n",
      "  Std: 397.88\n",
      "\n",
      "zipcode:\n",
      "  Type: Categorical\n",
      "  Unique values: [98001, 98002, 98003, 98004, 98005, 98006, 98007, 98008, 98010, 98011, 98014, 98019, 98022, 98023, 98024, 98027, 98028, 98029, 98030, 98031, 98032, 98033, 98034, 98038, 98039, 98040, 98042, 98045, 98052, 98053, 98055, 98056, 98058, 98059, 98065, 98070, 98072, 98074, 98075, 98077, 98092, 98102, 98103, 98105, 98106, 98107, 98108, 98109, 98112, 98115, 98116, 98117, 98118, 98119, 98122, 98125, 98126, 98133, 98136, 98144, 98146, 98148, 98155, 98166, 98168, 98177, 98178, 98188, 98198, 98199]\n",
      "\n",
      "lat:\n",
      "  Type: Numerical\n",
      "  Min: 47.1559\n",
      "  Max: 47.7776\n",
      "  Mean: 47.56\n",
      "  Std: 0.14\n",
      "\n",
      "long:\n",
      "  Type: Numerical\n",
      "  Min: -122.519\n",
      "  Max: -121.315\n",
      "  Mean: -122.21\n",
      "  Std: 0.14\n",
      "\n",
      "sqft_living15:\n",
      "  Type: Numerical\n",
      "  Min: 399\n",
      "  Max: 6210\n",
      "  Mean: 1986.42\n",
      "  Std: 685.21\n",
      "\n",
      "sqft_lot15:\n",
      "  Type: Numerical\n",
      "  Min: 651\n",
      "  Max: 871200\n",
      "  Mean: 12749.36\n",
      "  Std: 27077.11\n"
     ]
    }
   ],
   "source": [
    "import pandas as pd\n",
    "import numpy as np\n",
    "\n",
    "# Load the data from GitHub\n",
    "df = pd.read_csv('https://raw.githubusercontent.com/byui-cse/cse450-course/master/data/housing.csv')\n",
    "df.drop('date', axis=1, inplace=True)  # remove this column, it messes with the model we are using\n",
    "df = df.query('bedrooms <= 12')  # there is a house that has an absurd number of rooms so we need to remove it as an outlier\n",
    "\n",
    "# Drop price as it's what we're trying to predict\n",
    "df_features = df.drop('price', axis=1)\n",
    "\n",
    "# Calculate statistics for each column\n",
    "stats = {}\n",
    "\n",
    "for col in df_features.columns:\n",
    "    if col == 'id':  # Skip id column\n",
    "        continue\n",
    "        \n",
    "    if df_features[col].dtype == 'object' or col in ['waterfront', 'view', 'condition', 'grade', 'zipcode']:\n",
    "        # For categorical features, get unique values\n",
    "        stats[col] = {\n",
    "            'type': 'categorical',\n",
    "            'unique_values': sorted(df_features[col].unique().tolist())\n",
    "        }\n",
    "    else:\n",
    "        # For numerical features, get min, max, mean, std\n",
    "        stats[col] = {\n",
    "            'type': 'numerical',\n",
    "            'min': df_features[col].min(),\n",
    "            'max': df_features[col].max(),\n",
    "            'mean': df_features[col].mean(),\n",
    "            'std': df_features[col].std()\n",
    "        }\n",
    "\n",
    "# Print the statistics for each feature\n",
    "print(\"Feature Statistics for Sample Data Generation:\")\n",
    "print(\"-\" * 50)\n",
    "\n",
    "for feature, feature_stats in stats.items():\n",
    "    print(f\"\\n{feature}:\")\n",
    "    if feature_stats['type'] == 'categorical':\n",
    "        print(f\"  Type: Categorical\")\n",
    "        print(f\"  Unique values: {feature_stats['unique_values']}\")\n",
    "    else:\n",
    "        print(f\"  Type: Numerical\")\n",
    "        print(f\"  Min: {feature_stats['min']}\")\n",
    "        print(f\"  Max: {feature_stats['max']}\")\n",
    "        print(f\"  Mean: {feature_stats['mean']:.2f}\")\n",
    "        print(f\"  Std: {feature_stats['std']:.2f}\")\n"
   ]
  },
  {
   "cell_type": "code",
   "execution_count": 17,
   "metadata": {},
   "outputs": [],
   "source": [
    "from pyspark.sql import SparkSession\n",
    "from pyspark.sql.functions import col, lit, rand, round as spark_round\n",
    "import random\n",
    "import pandas as pd\n",
    "import numpy as np\n",
    "\n",
    "def create_neighborhood(\n",
    "    name,               # Neighborhood name (string)\n",
    "    size,               # Number of houses (int)\n",
    "    bed_range,          # (min, max) bedrooms (tuple of ints)\n",
    "    bath_range,         # (min, max) bathrooms (tuple of floats)\n",
    "    sqft_range,         # (min, max) square footage (tuple of ints)\n",
    "    grade_range,        # (min, max) grade (tuple of ints)\n",
    "    waterfront_pct,     # Percentage of waterfront properties (int, 0-100)\n",
    "    view_range,         # (min, max) view rating (tuple of ints)\n",
    "    lot_multiplier,     # Multiplier for lot size relative to house (float)\n",
    "    zipcode,            # Neighborhood zipcode (string)\n",
    "    coordinates         # (lat, long) for neighborhood (tuple of floats)\n",
    "):\n",
    "    \"\"\"\n",
    "    Creates a PySpark DataFrame of houses for a specific neighborhood.\n",
    "    \n",
    "    Returns:\n",
    "        A PySpark DataFrame with the generated houses\n",
    "    \"\"\"\n",
    "    # For simpler random generation\n",
    "    min_bed, max_bed = bed_range\n",
    "    min_bath, max_bath = bath_range\n",
    "    min_sqft, max_sqft = sqft_range\n",
    "    min_grade, max_grade = grade_range\n",
    "    min_view, max_view = view_range\n",
    "    lat, long = coordinates\n",
    "    \n",
    "    # Create pandas dataframe first (easier for random generation)\n",
    "    data = []\n",
    "    \n",
    "    for _ in range(size):\n",
    "        # Generate basic features\n",
    "        bedrooms = random.randint(min_bed, max_bed)\n",
    "        \n",
    "        # Bathroom options (typical increments of 0.25, 0.5, etc.)\n",
    "        bath_options = [0.5, 0.75, 1.0, 1.25, 1.5, 1.75, 2.0, 2.25, 2.5, 2.75, 3.0, 3.25, 3.5, 3.75, 4.0, 4.5, 5.0, 5.5, 6.0, 6.5, 7.0]\n",
    "        bathrooms = random.choice([b for b in bath_options if min_bath <= b <= max_bath])\n",
    "        \n",
    "        # Square footage\n",
    "        sqft_living = random.randint(min_sqft, max_sqft)\n",
    "        \n",
    "        # Lot size based on multiplier\n",
    "        sqft_lot = int(sqft_living * lot_multiplier * random.uniform(0.9, 1.1))\n",
    "        \n",
    "        # Floor options (1, 1.5, 2, 2.5, 3)\n",
    "        floors = random.choice([1.0, 1.5, 2.0, 2.5, 3.0])\n",
    "        \n",
    "        # Waterfront based on percentage\n",
    "        waterfront = 1 if random.random() < (waterfront_pct / 100) else 0\n",
    "        \n",
    "        # View rating\n",
    "        view = random.randint(min_view, max_view)\n",
    "        \n",
    "        # Condition rating (1-5, mostly 3-5 for populated areas)\n",
    "        condition = random.randint(3, 5)\n",
    "        \n",
    "        # Grade\n",
    "        grade = random.randint(min_grade, max_grade)\n",
    "        \n",
    "        # Above ground and basement\n",
    "        if floors < 1.5:\n",
    "            sqft_above = sqft_living\n",
    "            sqft_basement = 0\n",
    "        else:\n",
    "            sqft_above = int(sqft_living * random.uniform(0.6, 0.8))\n",
    "            sqft_basement = sqft_living - sqft_above\n",
    "        \n",
    "        # Year built (most between 1970-2015)\n",
    "        yr_built = random.randint(1970, 2015)\n",
    "        \n",
    "        # Year renovated (0 means no renovation)\n",
    "        yr_renovated = 0\n",
    "        if yr_built < 2000 and random.random() < 0.3:\n",
    "            yr_renovated = random.randint(yr_built + 10, 2023)\n",
    "        \n",
    "        # Small variations in lat/long to spread houses out\n",
    "        house_lat = lat + random.uniform(-0.01, 0.01)\n",
    "        house_long = long + random.uniform(-0.01, 0.01)\n",
    "        \n",
    "        # Living area and lot 15 years ago (slightly smaller)\n",
    "        sqft_living15 = int(sqft_living * random.uniform(0.85, 0.95))\n",
    "        sqft_lot15 = int(sqft_lot * random.uniform(0.9, 1.0))\n",
    "        \n",
    "        # Generate a unique ID\n",
    "        id_num = str(random.randint(1000000000, 9999999999))\n",
    "        \n",
    "        # Compile house data\n",
    "        house_data = {\n",
    "            'id': id_num,\n",
    "            'bedrooms': bedrooms,\n",
    "            'bathrooms': bathrooms,\n",
    "            'sqft_living': sqft_living,\n",
    "            'sqft_lot': sqft_lot,\n",
    "            'floors': floors,\n",
    "            'waterfront': waterfront,\n",
    "            'view': view,\n",
    "            'condition': condition,\n",
    "            'grade': grade,\n",
    "            'sqft_above': sqft_above,\n",
    "            'sqft_basement': sqft_basement,\n",
    "            'yr_built': yr_built,\n",
    "            'yr_renovated': yr_renovated,\n",
    "            'zipcode': zipcode,\n",
    "            'lat': house_lat,\n",
    "            'long': house_long,\n",
    "            'sqft_living15': sqft_living15,\n",
    "            'sqft_lot15': sqft_lot15\n",
    "        }\n",
    "        \n",
    "        data.append(house_data)\n",
    "    \n",
    "    # Convert to pandas DataFrame\n",
    "    pdf = pd.DataFrame(data)\n",
    "    \n",
    "    # Convert to Spark DataFrame\n",
    "    sdf = spark.createDataFrame(pdf)\n",
    "    \n",
    "    # Add additional information for tracking\n",
    "    sdf = sdf.withColumn(\"neighborhood\", lit(name))\n",
    "    \n",
    "    return sdf"
   ]
  },
  {
   "cell_type": "code",
   "execution_count": 18,
   "metadata": {},
   "outputs": [],
   "source": [
    "def create_evergreen_estates():\n",
    "    \"\"\"Luxury Mansion Neighborhood - Team: Exalted\"\"\"\n",
    "    return create_neighborhood(\n",
    "        name=\"Evergreen Estates\",\n",
    "        size=25,\n",
    "        bed_range=(4, 6),\n",
    "        bath_range=(3.5, 7.0),\n",
    "        sqft_range=(4000, 9000),\n",
    "        grade_range=(10, 13),\n",
    "        waterfront_pct=40,\n",
    "        view_range=(2, 4),\n",
    "        lot_multiplier=3.0, # Very large lots\n",
    "        zipcode=\"98039\",\n",
    "        coordinates=(47.6288, -122.2313)\n",
    "    )"
   ]
  },
  {
   "cell_type": "code",
   "execution_count": 21,
   "metadata": {},
   "outputs": [
    {
     "ename": "SyntaxError",
     "evalue": "invalid syntax (1920971931.py, line 216)",
     "output_type": "error",
     "traceback": [
      "\u001b[1;36m  Cell \u001b[1;32mIn[21], line 216\u001b[1;36m\u001b[0m\n\u001b[1;33m    print(f\"  {house['bedrooms']} bed, {house['bathrooms']} bath, {house['sqft_living']} sqft, Grade: {house['grade']}, Waterfront: {house['waterfront']}\")(5)import random\u001b[0m\n\u001b[1;37m                                                                                                                                                              ^\u001b[0m\n\u001b[1;31mSyntaxError\u001b[0m\u001b[1;31m:\u001b[0m invalid syntax\n"
     ]
    }
   ],
   "source": [
    "import random\n",
    "import csv\n",
    "import os\n",
    "\n",
    "def generate_houses(\n",
    "    neighborhood,       # Name of the neighborhood\n",
    "    size,               # Number of houses\n",
    "    bed_range,          # (min, max) bedrooms\n",
    "    bath_range,         # (min, max) bathrooms\n",
    "    sqft_range,         # (min, max) square footage\n",
    "    grade_range,        # (min, max) grade\n",
    "    waterfront_pct,     # Percentage of waterfront properties\n",
    "    view_range,         # (min, max) view rating\n",
    "    lot_multiplier,     # Multiplier for lot size\n",
    "    zipcode,            # Zipcode\n",
    "    coordinates         # (lat, long)\n",
    "):\n",
    "    \"\"\"Generate houses for a neighborhood with specified characteristics.\"\"\"\n",
    "    houses = []\n",
    "    \n",
    "    # Extract ranges\n",
    "    min_bed, max_bed = bed_range\n",
    "    min_bath, max_bath = bath_range\n",
    "    min_sqft, max_sqft = sqft_range\n",
    "    min_grade, max_grade = grade_range\n",
    "    min_view, max_view = view_range\n",
    "    lat, long = coordinates\n",
    "    \n",
    "    # Bathroom options (standard increments)\n",
    "    bath_options = [0.5, 0.75, 1.0, 1.25, 1.5, 1.75, 2.0, 2.25, 2.5, 2.75, 3.0, \n",
    "                   3.25, 3.5, 3.75, 4.0, 4.5, 5.0, 5.5, 6.0, 6.5, 7.0]\n",
    "    valid_bath_options = [b for b in bath_options if min_bath <= b <= max_bath]\n",
    "    \n",
    "    # Floor options\n",
    "    floor_options = [1.0, 1.5, 2.0, 2.5, 3.0]\n",
    "    \n",
    "    for i in range(size):\n",
    "        # Generate ID\n",
    "        id_num = str(random.randint(1000000000, 9999999999))\n",
    "        \n",
    "        # Generate basic features\n",
    "        bedrooms = random.randint(min_bed, max_bed)\n",
    "        bathrooms = random.choice(valid_bath_options)\n",
    "        sqft_living = random.randint(min_sqft, max_sqft)\n",
    "        \n",
    "        # Lot size based on multiplier (with some randomness)\n",
    "        sqft_lot = int(sqft_living * lot_multiplier * random.uniform(0.9, 1.1))\n",
    "        \n",
    "        # Floor options\n",
    "        floors = random.choice(floor_options)\n",
    "        \n",
    "        # Waterfront based on percentage\n",
    "        waterfront = 1 if random.random() < (waterfront_pct / 100) else 0\n",
    "        \n",
    "        # View rating\n",
    "        view = random.randint(min_view, max_view)\n",
    "        \n",
    "        # Condition rating (1-5, mostly 3-5 for populated areas)\n",
    "        condition = random.randint(3, 5)\n",
    "        \n",
    "        # Grade\n",
    "        grade = random.randint(min_grade, max_grade)\n",
    "        \n",
    "        # Above ground and basement\n",
    "        if floors < 1.5:\n",
    "            sqft_above = sqft_living\n",
    "            sqft_basement = 0\n",
    "        else:\n",
    "            sqft_above = int(sqft_living * random.uniform(0.6, 0.8))\n",
    "            sqft_basement = sqft_living - sqft_above\n",
    "        \n",
    "        # Year built (most between 1970-2015)\n",
    "        yr_built = random.randint(1970, 2015)\n",
    "        \n",
    "        # Year renovated (0 means no renovation)\n",
    "        yr_renovated = 0\n",
    "        if yr_built < 2000 and random.random() < 0.3:\n",
    "            yr_renovated = random.randint(yr_built + 10, 2023)\n",
    "        \n",
    "        # Small variations in lat/long to spread houses out\n",
    "        house_lat = lat + random.uniform(-0.01, 0.01)\n",
    "        house_long = long + random.uniform(-0.01, 0.01)\n",
    "        \n",
    "        # Living area and lot 15 years ago (slightly smaller)\n",
    "        sqft_living15 = int(sqft_living * random.uniform(0.85, 0.95))\n",
    "        sqft_lot15 = int(sqft_lot * random.uniform(0.9, 1.0))\n",
    "        \n",
    "        # Add house to result\n",
    "        house = {\n",
    "            'id': id_num,\n",
    "            'bedrooms': bedrooms,\n",
    "            'bathrooms': bathrooms,\n",
    "            'sqft_living': sqft_living,\n",
    "            'sqft_lot': sqft_lot,\n",
    "            'floors': floors,\n",
    "            'waterfront': waterfront,\n",
    "            'view': view,\n",
    "            'condition': condition,\n",
    "            'grade': grade,\n",
    "            'sqft_above': sqft_above,\n",
    "            'sqft_basement': sqft_basement,\n",
    "            'yr_built': yr_built,\n",
    "            'yr_renovated': yr_renovated,\n",
    "            'zipcode': zipcode,\n",
    "            'lat': house_lat,\n",
    "            'long': house_long,\n",
    "            'sqft_living15': sqft_living15,\n",
    "            'sqft_lot15': sqft_lot15,\n",
    "            'neighborhood': neighborhood\n",
    "        }\n",
    "        houses.append(house)\n",
    "    \n",
    "    return houses\n",
    "\n",
    "# Generate all neighborhoods\n",
    "all_houses = []\n",
    "\n",
    "# 1. Evergreen Estates (Luxury Mansions)\n",
    "all_houses.extend(generate_houses(\n",
    "    neighborhood=\"Evergreen Estates\",\n",
    "    size=25,\n",
    "    bed_range=(4, 6),\n",
    "    bath_range=(3.5, 7.0),\n",
    "    sqft_range=(4000, 9000),\n",
    "    grade_range=(10, 13),\n",
    "    waterfront_pct=40,\n",
    "    view_range=(2, 4),\n",
    "    lot_multiplier=3.0,\n",
    "    zipcode=\"98039\",\n",
    "    coordinates=(47.6288, -122.2313)\n",
    "))\n",
    "\n",
    "# 2. Cedar Grove (Government Housing)\n",
    "all_houses.extend(generate_houses(\n",
    "    neighborhood=\"Cedar Grove\",\n",
    "    size=200,\n",
    "    bed_range=(2, 3),\n",
    "    bath_range=(1.0, 1.5),\n",
    "    sqft_range=(800, 1200),\n",
    "    grade_range=(5, 6),\n",
    "    waterfront_pct=0,\n",
    "    view_range=(0, 1),\n",
    "    lot_multiplier=1.2,\n",
    "    zipcode=\"98178\",\n",
    "    coordinates=(47.4924, -122.2359)\n",
    "))\n",
    "\n",
    "# 3. Greenfield Commons (Middle Class Neighborhood 1)\n",
    "all_houses.extend(generate_houses(\n",
    "    neighborhood=\"Greenfield Commons\",\n",
    "    size=250,\n",
    "    bed_range=(3, 4),\n",
    "    bath_range=(2.0, 2.5),\n",
    "    sqft_range=(1600, 2200),\n",
    "    grade_range=(7, 8),\n",
    "    waterfront_pct=0,\n",
    "    view_range=(0, 2),\n",
    "    lot_multiplier=2.0,\n",
    "    zipcode=\"98052\",\n",
    "    coordinates=(47.6769, -122.1069)\n",
    "))\n",
    "\n",
    "# 4. Parkside Meadows (Middle Class Neighborhood 2)\n",
    "all_houses.extend(generate_houses(\n",
    "    neighborhood=\"Parkside Meadows\",\n",
    "    size=200,\n",
    "    bed_range=(3, 4),\n",
    "    bath_range=(2.0, 2.5),\n",
    "    sqft_range=(1800, 2400),\n",
    "    grade_range=(7, 9),\n",
    "    waterfront_pct=0,\n",
    "    view_range=(0, 3),\n",
    "    lot_multiplier=2.5,\n",
    "    zipcode=\"98074\",\n",
    "    coordinates=(47.6157, -122.0355)\n",
    "))\n",
    "\n",
    "# 5. Shoreline Terrace (Beachfront Community)\n",
    "all_houses.extend(generate_houses(\n",
    "    neighborhood=\"Shoreline Terrace\",\n",
    "    size=100,\n",
    "    bed_range=(2, 4),\n",
    "    bath_range=(1.5, 2.5),\n",
    "    sqft_range=(1500, 2500),\n",
    "    grade_range=(7, 9),\n",
    "    waterfront_pct=100,\n",
    "    view_range=(3, 4),\n",
    "    lot_multiplier=1.8,\n",
    "    zipcode=\"98166\",\n",
    "    coordinates=(47.4435, -122.3569)\n",
    "))\n",
    "\n",
    "# Write to CSV\n",
    "csv_file = \"seattle_housing_neighborhoods.csv\"\n",
    "fieldnames = ['id', 'bedrooms', 'bathrooms', 'sqft_living', 'sqft_lot', 'floors',\n",
    "             'waterfront', 'view', 'condition', 'grade', 'sqft_above', 'sqft_basement',\n",
    "             'yr_built', 'yr_renovated', 'zipcode', 'lat', 'long',\n",
    "             'sqft_living15', 'sqft_lot15', 'neighborhood']\n",
    "\n",
    "with open(csv_file, 'w', newline='') as f:\n",
    "    writer = csv.DictWriter(f, fieldnames=fieldnames)\n",
    "    writer.writeheader()\n",
    "    writer.writerows(all_houses)\n",
    "\n",
    "print(f\"Generated {len(all_houses)} houses across 5 neighborhoods\")\n",
    "print(f\"Data saved to {csv_file}\")\n",
    "\n",
    "# Sample output - display first 5 houses from each neighborhood\n",
    "neighborhoods = [\"Evergreen Estates\", \"Cedar Grove\", \"Greenfield Commons\", \n",
    "                \"Parkside Meadows\", \"Shoreline Terrace\"]\n",
    "\n",
    "for neighborhood in neighborhoods:\n",
    "    houses = [h for h in all_houses if h[\"neighborhood\"] == neighborhood]\n",
    "    print(f\"\\n{neighborhood} - Sample houses (first 5 of {len(houses)}):\")\n",
    "    for house in houses[:5]:\n",
    "        print(f\"  {house['bedrooms']} bed, {house['bathrooms']} bath, {house['sqft_living']} sqft, Grade: {house['grade']}, Waterfront: {house['waterfront']}\")(5)import random\n",
    "import csv\n",
    "import os\n",
    "\n",
    "def generate_houses(\n",
    "    neighborhood,       # Name of the neighborhood\n",
    "    size,               # Number of houses\n",
    "    bed_range,          # (min, max) bedrooms\n",
    "    bath_range,         # (min, max) bathrooms\n",
    "    sqft_range,         # (min, max) square footage\n",
    "    grade_range,        # (min, max) grade\n",
    "    waterfront_pct,     # Percentage of waterfront properties\n",
    "    view_range,         # (min, max) view rating\n",
    "    lot_multiplier,     # Multiplier for lot size\n",
    "    zipcode,            # Zipcode\n",
    "    coordinates         # (lat, long)\n",
    "):\n",
    "    \"\"\"Generate houses for a neighborhood with specified characteristics.\"\"\"\n",
    "    houses = []\n",
    "    \n",
    "    # Extract ranges\n",
    "    min_bed, max_bed = bed_range\n",
    "    min_bath, max_bath = bath_range\n",
    "    min_sqft, max_sqft = sqft_range\n",
    "    min_grade, max_grade = grade_range\n",
    "    min_view, max_view = view_range\n",
    "    lat, long = coordinates\n",
    "    \n",
    "    # Bathroom options (standard increments)\n",
    "    bath_options = [0.5, 0.75, 1.0, 1.25, 1.5, 1.75, 2.0, 2.25, 2.5, 2.75, 3.0, \n",
    "                   3.25, 3.5, 3.75, 4.0, 4.5, 5.0, 5.5, 6.0, 6.5, 7.0]\n",
    "    valid_bath_options = [b for b in bath_options if min_bath <= b <= max_bath]\n",
    "    \n",
    "    # Floor options\n",
    "    floor_options = [1.0, 1.5, 2.0, 2.5, 3.0]\n",
    "    \n",
    "    for i in range(size):\n",
    "        # Generate ID\n",
    "        id_num = str(random.randint(1000000000, 9999999999))\n",
    "        \n",
    "        # Generate basic features\n",
    "        bedrooms = random.randint(min_bed, max_bed)\n",
    "        bathrooms = random.choice(valid_bath_options)\n",
    "        sqft_living = random.randint(min_sqft, max_sqft)\n",
    "        \n",
    "        # Lot size based on multiplier (with some randomness)\n",
    "        sqft_lot = int(sqft_living * lot_multiplier * random.uniform(0.9, 1.1))\n",
    "        \n",
    "        # Floor options\n",
    "        floors = random.choice(floor_options)\n",
    "        \n",
    "        # Waterfront based on percentage\n",
    "        waterfront = 1 if random.random() < (waterfront_pct / 100) else 0\n",
    "        \n",
    "        # View rating\n",
    "        view = random.randint(min_view, max_view)\n",
    "        \n",
    "        # Condition rating (1-5, mostly 3-5 for populated areas)\n",
    "        condition = random.randint(3, 5)\n",
    "        \n",
    "        # Grade\n",
    "        grade = random.randint(min_grade, max_grade)\n",
    "        \n",
    "        # Above ground and basement\n",
    "        if floors < 1.5:\n",
    "            sqft_above = sqft_living\n",
    "            sqft_basement = 0\n",
    "        else:\n",
    "            sqft_above = int(sqft_living * random.uniform(0.6, 0.8))\n",
    "            sqft_basement = sqft_living - sqft_above\n",
    "        \n",
    "        # Year built (most between 1970-2015)\n",
    "        yr_built = random.randint(1970, 2015)\n",
    "        \n",
    "        # Year renovated (0 means no renovation)\n",
    "        yr_renovated = 0\n",
    "        if yr_built < 2000 and random.random() < 0.3:\n",
    "            yr_renovated = random.randint(yr_built + 10, 2023)\n",
    "        \n",
    "        # Small variations in lat/long to spread houses out\n",
    "        house_lat = lat + random.uniform(-0.01, 0.01)\n",
    "        house_long = long + random.uniform(-0.01, 0.01)\n",
    "        \n",
    "        # Living area and lot 15 years ago (slightly smaller)\n",
    "        sqft_living15 = int(sqft_living * random.uniform(0.85, 0.95))\n",
    "        sqft_lot15 = int(sqft_lot * random.uniform(0.9, 1.0))\n",
    "        \n",
    "        # Add house to result\n",
    "        house = {\n",
    "            'id': id_num,\n",
    "            'bedrooms': bedrooms,\n",
    "            'bathrooms': bathrooms,\n",
    "            'sqft_living': sqft_living,\n",
    "            'sqft_lot': sqft_lot,\n",
    "            'floors': floors,\n",
    "            'waterfront': waterfront,\n",
    "            'view': view,\n",
    "            'condition': condition,\n",
    "            'grade': grade,\n",
    "            'sqft_above': sqft_above,\n",
    "            'sqft_basement': sqft_basement,\n",
    "            'yr_built': yr_built,\n",
    "            'yr_renovated': yr_renovated,\n",
    "            'zipcode': zipcode,\n",
    "            'lat': house_lat,\n",
    "            'long': house_long,\n",
    "            'sqft_living15': sqft_living15,\n",
    "            'sqft_lot15': sqft_lot15,\n",
    "            'neighborhood': neighborhood\n",
    "        }\n",
    "        houses.append(house)\n",
    "    \n",
    "    return houses\n",
    "\n",
    "# Generate all neighborhoods\n",
    "all_houses = []\n",
    "\n",
    "# 1. Evergreen Estates (Luxury Mansions)\n",
    "all_houses.extend(generate_houses(\n",
    "    neighborhood=\"Evergreen Estates\",\n",
    "    size=25,\n",
    "    bed_range=(4, 6),\n",
    "    bath_range=(3.5, 7.0),\n",
    "    sqft_range=(4000, 9000),\n",
    "    grade_range=(10, 13),\n",
    "    waterfront_pct=40,\n",
    "    view_range=(2, 4),\n",
    "    lot_multiplier=3.0,\n",
    "    zipcode=\"98039\",\n",
    "    coordinates=(47.6288, -122.2313)\n",
    "))\n",
    "\n",
    "# 2. Cedar Grove (Government Housing)\n",
    "all_houses.extend(generate_houses(\n",
    "    neighborhood=\"Cedar Grove\",\n",
    "    size=200,\n",
    "    bed_range=(2, 3),\n",
    "    bath_range=(1.0, 1.5),\n",
    "    sqft_range=(800, 1200),\n",
    "    grade_range=(5, 6),\n",
    "    waterfront_pct=0,\n",
    "    view_range=(0, 1),\n",
    "    lot_multiplier=1.2,\n",
    "    zipcode=\"98178\",\n",
    "    coordinates=(47.4924, -122.2359)\n",
    "))\n",
    "\n",
    "# 3. Greenfield Commons (Middle Class Neighborhood 1)\n",
    "all_houses.extend(generate_houses(\n",
    "    neighborhood=\"Greenfield Commons\",\n",
    "    size=250,\n",
    "    bed_range=(3, 4),\n",
    "    bath_range=(2.0, 2.5),\n",
    "    sqft_range=(1600, 2200),\n",
    "    grade_range=(7, 8),\n",
    "    waterfront_pct=0,\n",
    "    view_range=(0, 2),\n",
    "    lot_multiplier=2.0,\n",
    "    zipcode=\"98052\",\n",
    "    coordinates=(47.6769, -122.1069)\n",
    "))\n",
    "\n",
    "# 4. Parkside Meadows (Middle Class Neighborhood 2)\n",
    "all_houses.extend(generate_houses(\n",
    "    neighborhood=\"Parkside Meadows\",\n",
    "    size=200,\n",
    "    bed_range=(3, 4),\n",
    "    bath_range=(2.0, 2.5),\n",
    "    sqft_range=(1800, 2400),\n",
    "    grade_range=(7, 9),\n",
    "    waterfront_pct=0,\n",
    "    view_range=(0, 3),\n",
    "    lot_multiplier=2.5,\n",
    "    zipcode=\"98074\",\n",
    "    coordinates=(47.6157, -122.0355)\n",
    "))\n",
    "\n",
    "# 5. Shoreline Terrace (Beachfront Community)\n",
    "all_houses.extend(generate_houses(\n",
    "    neighborhood=\"Shoreline Terrace\",\n",
    "    size=100,\n",
    "    bed_range=(2, 4),\n",
    "    bath_range=(1.5, 2.5),\n",
    "    sqft_range=(1500, 2500),\n",
    "    grade_range=(7, 9),\n",
    "    waterfront_pct=100,\n",
    "    view_range=(3, 4),\n",
    "    lot_multiplier=1.8,\n",
    "    zipcode=\"98166\",\n",
    "    coordinates=(47.4435, -122.3569)\n",
    "))\n",
    "\n",
    "# Write to CSV\n",
    "csv_file = \"seattle_housing_neighborhoods.csv\"\n",
    "fieldnames = ['id', 'bedrooms', 'bathrooms', 'sqft_living', 'sqft_lot', 'floors',\n",
    "             'waterfront', 'view', 'condition', 'grade', 'sqft_above', 'sqft_basement',\n",
    "             'yr_built', 'yr_renovated', 'zipcode', 'lat', 'long',\n",
    "             'sqft_living15', 'sqft_lot15', 'neighborhood']\n",
    "\n",
    "with open(csv_file, 'w', newline='') as f:\n",
    "    writer = csv.DictWriter(f, fieldnames=fieldnames)\n",
    "    writer.writeheader()\n",
    "    writer.writerows(all_houses)\n",
    "\n",
    "print(f\"Generated {len(all_houses)} houses across 5 neighborhoods\")\n",
    "print(f\"Data saved to {csv_file}\")\n",
    "\n",
    "# Sample output - display first 5 houses from each neighborhood\n",
    "neighborhoods = [\"Evergreen Estates\", \"Cedar Grove\", \"Greenfield Commons\", \n",
    "                \"Parkside Meadows\", \"Shoreline Terrace\"]\n",
    "\n",
    "for neighborhood in neighborhoods:\n",
    "    houses = [h for h in all_houses if h[\"neighborhood\"] == neighborhood]\n",
    "    print(f\"\\n{neighborhood} - Sample houses (first 5 of {len(houses)}):\")\n",
    "    for house in houses[:5]:\n",
    "        print(f\"  {house['bedrooms']} bed, {house['bathrooms']} bath, {house['sqft_living']} sqft, Grade: {house['grade']}, Waterfront: {house['waterfront']}\")"
   ]
  },
  {
   "cell_type": "code",
   "execution_count": 22,
   "metadata": {},
   "outputs": [
    {
     "name": "stdout",
     "output_type": "stream",
     "text": [
      "Generated 775 houses across 5 neighborhoods\n",
      "Data saved to seattle_housing_neighborhoods.csv\n",
      "\n",
      "Evergreen Estates - Sample houses (first 5 of 25):\n",
      "  4 bed, 4.0 bath, 7427 sqft, Grade: 11, Waterfront: 0\n",
      "  4 bed, 4.5 bath, 6926 sqft, Grade: 11, Waterfront: 0\n",
      "  6 bed, 4.0 bath, 6344 sqft, Grade: 13, Waterfront: 0\n",
      "  5 bed, 7.0 bath, 6399 sqft, Grade: 12, Waterfront: 1\n",
      "  6 bed, 6.5 bath, 4635 sqft, Grade: 12, Waterfront: 0\n",
      "\n",
      "Cedar Grove - Sample houses (first 5 of 200):\n",
      "  2 bed, 1.25 bath, 1138 sqft, Grade: 6, Waterfront: 0\n",
      "  2 bed, 1.5 bath, 964 sqft, Grade: 6, Waterfront: 0\n",
      "  2 bed, 1.25 bath, 814 sqft, Grade: 5, Waterfront: 0\n",
      "  2 bed, 1.0 bath, 871 sqft, Grade: 5, Waterfront: 0\n",
      "  2 bed, 1.5 bath, 987 sqft, Grade: 6, Waterfront: 0\n",
      "\n",
      "Greenfield Commons - Sample houses (first 5 of 250):\n",
      "  3 bed, 2.0 bath, 1622 sqft, Grade: 7, Waterfront: 0\n",
      "  4 bed, 2.25 bath, 1878 sqft, Grade: 7, Waterfront: 0\n",
      "  4 bed, 2.5 bath, 2072 sqft, Grade: 8, Waterfront: 0\n",
      "  3 bed, 2.0 bath, 1724 sqft, Grade: 8, Waterfront: 0\n",
      "  3 bed, 2.5 bath, 2088 sqft, Grade: 7, Waterfront: 0\n",
      "\n",
      "Parkside Meadows - Sample houses (first 5 of 200):\n",
      "  4 bed, 2.0 bath, 2375 sqft, Grade: 9, Waterfront: 0\n",
      "  4 bed, 2.5 bath, 2118 sqft, Grade: 7, Waterfront: 0\n",
      "  4 bed, 2.0 bath, 2123 sqft, Grade: 7, Waterfront: 0\n",
      "  4 bed, 2.25 bath, 2345 sqft, Grade: 9, Waterfront: 0\n",
      "  4 bed, 2.5 bath, 2032 sqft, Grade: 8, Waterfront: 0\n",
      "\n",
      "Shoreline Terrace - Sample houses (first 5 of 100):\n",
      "  2 bed, 1.75 bath, 1939 sqft, Grade: 9, Waterfront: 1\n",
      "  3 bed, 2.25 bath, 1718 sqft, Grade: 8, Waterfront: 1\n",
      "  3 bed, 1.5 bath, 2441 sqft, Grade: 9, Waterfront: 1\n",
      "  2 bed, 2.25 bath, 1692 sqft, Grade: 9, Waterfront: 1\n",
      "  3 bed, 2.25 bath, 1788 sqft, Grade: 9, Waterfront: 1\n"
     ]
    }
   ],
   "source": [
    "import random\n",
    "import csv\n",
    "import os\n",
    "\n",
    "def generate_houses(\n",
    "    neighborhood,       # Name of the neighborhood\n",
    "    size,               # Number of houses\n",
    "    bed_range,          # (min, max) bedrooms\n",
    "    bath_range,         # (min, max) bathrooms\n",
    "    sqft_range,         # (min, max) square footage\n",
    "    grade_range,        # (min, max) grade\n",
    "    waterfront_pct,     # Percentage of waterfront properties\n",
    "    view_range,         # (min, max) view rating\n",
    "    lot_multiplier,     # Multiplier for lot size\n",
    "    zipcode,            # Zipcode\n",
    "    coordinates         # (lat, long)\n",
    "):\n",
    "    \"\"\"Generate houses for a neighborhood with specified characteristics.\"\"\"\n",
    "    houses = []\n",
    "    \n",
    "    # Extract ranges\n",
    "    min_bed, max_bed = bed_range\n",
    "    min_bath, max_bath = bath_range\n",
    "    min_sqft, max_sqft = sqft_range\n",
    "    min_grade, max_grade = grade_range\n",
    "    min_view, max_view = view_range\n",
    "    lat, long = coordinates\n",
    "    \n",
    "    # Bathroom options (standard increments)\n",
    "    bath_options = [0.5, 0.75, 1.0, 1.25, 1.5, 1.75, 2.0, 2.25, 2.5, 2.75, 3.0, \n",
    "                   3.25, 3.5, 3.75, 4.0, 4.5, 5.0, 5.5, 6.0, 6.5, 7.0]\n",
    "    valid_bath_options = [b for b in bath_options if min_bath <= b <= max_bath]\n",
    "    \n",
    "    # Floor options\n",
    "    floor_options = [1.0, 1.5, 2.0, 2.5, 3.0]\n",
    "    \n",
    "    for i in range(size):\n",
    "        # Generate ID\n",
    "        id_num = str(random.randint(1000000000, 9999999999))\n",
    "        \n",
    "        # Generate basic features\n",
    "        bedrooms = random.randint(min_bed, max_bed)\n",
    "        bathrooms = random.choice(valid_bath_options)\n",
    "        sqft_living = random.randint(min_sqft, max_sqft)\n",
    "        \n",
    "        # Lot size based on multiplier (with some randomness)\n",
    "        sqft_lot = int(sqft_living * lot_multiplier * random.uniform(0.9, 1.1))\n",
    "        \n",
    "        # Floor options\n",
    "        floors = random.choice(floor_options)\n",
    "        \n",
    "        # Waterfront based on percentage\n",
    "        waterfront = 1 if random.random() < (waterfront_pct / 100) else 0\n",
    "        \n",
    "        # View rating\n",
    "        view = random.randint(min_view, max_view)\n",
    "        \n",
    "        # Condition rating (1-5, mostly 3-5 for populated areas)\n",
    "        condition = random.randint(3, 5)\n",
    "        \n",
    "        # Grade\n",
    "        grade = random.randint(min_grade, max_grade)\n",
    "        \n",
    "        # Above ground and basement\n",
    "        if floors < 1.5:\n",
    "            sqft_above = sqft_living\n",
    "            sqft_basement = 0\n",
    "        else:\n",
    "            sqft_above = int(sqft_living * random.uniform(0.6, 0.8))\n",
    "            sqft_basement = sqft_living - sqft_above\n",
    "        \n",
    "        # Year built (most between 1970-2015)\n",
    "        yr_built = random.randint(1970, 2015)\n",
    "        \n",
    "        # Year renovated (0 means no renovation)\n",
    "        yr_renovated = 0\n",
    "        if yr_built < 2000 and random.random() < 0.3:\n",
    "            yr_renovated = random.randint(yr_built + 10, 2023)\n",
    "        \n",
    "        # Small variations in lat/long to spread houses out\n",
    "        house_lat = lat + random.uniform(-0.01, 0.01)\n",
    "        house_long = long + random.uniform(-0.01, 0.01)\n",
    "        \n",
    "        # Living area and lot 15 years ago (slightly smaller)\n",
    "        sqft_living15 = int(sqft_living * random.uniform(0.85, 0.95))\n",
    "        sqft_lot15 = int(sqft_lot * random.uniform(0.9, 1.0))\n",
    "        \n",
    "        # Add house to result\n",
    "        house = {\n",
    "            'id': id_num,\n",
    "            'bedrooms': bedrooms,\n",
    "            'bathrooms': bathrooms,\n",
    "            'sqft_living': sqft_living,\n",
    "            'sqft_lot': sqft_lot,\n",
    "            'floors': floors,\n",
    "            'waterfront': waterfront,\n",
    "            'view': view,\n",
    "            'condition': condition,\n",
    "            'grade': grade,\n",
    "            'sqft_above': sqft_above,\n",
    "            'sqft_basement': sqft_basement,\n",
    "            'yr_built': yr_built,\n",
    "            'yr_renovated': yr_renovated,\n",
    "            'zipcode': zipcode,\n",
    "            'lat': house_lat,\n",
    "            'long': house_long,\n",
    "            'sqft_living15': sqft_living15,\n",
    "            'sqft_lot15': sqft_lot15,\n",
    "            'neighborhood': neighborhood\n",
    "        }\n",
    "        houses.append(house)\n",
    "    \n",
    "    return houses\n",
    "\n",
    "# Generate all neighborhoods\n",
    "all_houses = []\n",
    "\n",
    "# 1. Evergreen Estates (Luxury Mansions)\n",
    "all_houses.extend(generate_houses(\n",
    "    neighborhood=\"Evergreen Estates\",\n",
    "    size=25,\n",
    "    bed_range=(4, 6),\n",
    "    bath_range=(3.5, 7.0),\n",
    "    sqft_range=(4000, 9000),\n",
    "    grade_range=(10, 13),\n",
    "    waterfront_pct=40,\n",
    "    view_range=(2, 4),\n",
    "    lot_multiplier=3.0,\n",
    "    zipcode=\"98039\",\n",
    "    coordinates=(47.6288, -122.2313)\n",
    "))\n",
    "\n",
    "# 2. Cedar Grove (Government Housing)\n",
    "all_houses.extend(generate_houses(\n",
    "    neighborhood=\"Cedar Grove\",\n",
    "    size=200,\n",
    "    bed_range=(2, 3),\n",
    "    bath_range=(1.0, 1.5),\n",
    "    sqft_range=(800, 1200),\n",
    "    grade_range=(5, 6),\n",
    "    waterfront_pct=0,\n",
    "    view_range=(0, 1),\n",
    "    lot_multiplier=1.2,\n",
    "    zipcode=\"98178\",\n",
    "    coordinates=(47.4924, -122.2359)\n",
    "))\n",
    "\n",
    "# 3. Greenfield Commons (Middle Class Neighborhood 1)\n",
    "all_houses.extend(generate_houses(\n",
    "    neighborhood=\"Greenfield Commons\",\n",
    "    size=250,\n",
    "    bed_range=(3, 4),\n",
    "    bath_range=(2.0, 2.5),\n",
    "    sqft_range=(1600, 2200),\n",
    "    grade_range=(7, 8),\n",
    "    waterfront_pct=0,\n",
    "    view_range=(0, 2),\n",
    "    lot_multiplier=2.0,\n",
    "    zipcode=\"98052\",\n",
    "    coordinates=(47.6769, -122.1069)\n",
    "))\n",
    "\n",
    "# 4. Parkside Meadows (Middle Class Neighborhood 2)\n",
    "all_houses.extend(generate_houses(\n",
    "    neighborhood=\"Parkside Meadows\",\n",
    "    size=200,\n",
    "    bed_range=(3, 4),\n",
    "    bath_range=(2.0, 2.5),\n",
    "    sqft_range=(1800, 2400),\n",
    "    grade_range=(7, 9),\n",
    "    waterfront_pct=0,\n",
    "    view_range=(0, 3),\n",
    "    lot_multiplier=2.5,\n",
    "    zipcode=\"98074\",\n",
    "    coordinates=(47.6157, -122.0355)\n",
    "))\n",
    "\n",
    "# 5. Shoreline Terrace (Beachfront Community)\n",
    "all_houses.extend(generate_houses(\n",
    "    neighborhood=\"Shoreline Terrace\",\n",
    "    size=100,\n",
    "    bed_range=(2, 4),\n",
    "    bath_range=(1.5, 2.5),\n",
    "    sqft_range=(1500, 2500),\n",
    "    grade_range=(7, 9),\n",
    "    waterfront_pct=100,\n",
    "    view_range=(3, 4),\n",
    "    lot_multiplier=1.8,\n",
    "    zipcode=\"98166\",\n",
    "    coordinates=(47.4435, -122.3569)\n",
    "))\n",
    "\n",
    "# Write to CSV\n",
    "csv_file = \"seattle_housing_neighborhoods.csv\"\n",
    "fieldnames = ['id', 'bedrooms', 'bathrooms', 'sqft_living', 'sqft_lot', 'floors',\n",
    "             'waterfront', 'view', 'condition', 'grade', 'sqft_above', 'sqft_basement',\n",
    "             'yr_built', 'yr_renovated', 'zipcode', 'lat', 'long',\n",
    "             'sqft_living15', 'sqft_lot15', 'neighborhood']\n",
    "\n",
    "with open(csv_file, 'w', newline='') as f:\n",
    "    writer = csv.DictWriter(f, fieldnames=fieldnames)\n",
    "    writer.writeheader()\n",
    "    writer.writerows(all_houses)\n",
    "\n",
    "print(f\"Generated {len(all_houses)} houses across 5 neighborhoods\")\n",
    "print(f\"Data saved to {csv_file}\")\n",
    "\n",
    "# Sample output - display first 5 houses from each neighborhood\n",
    "neighborhoods = [\"Evergreen Estates\", \"Cedar Grove\", \"Greenfield Commons\", \n",
    "                \"Parkside Meadows\", \"Shoreline Terrace\"]\n",
    "\n",
    "for neighborhood in neighborhoods:\n",
    "    houses = [h for h in all_houses if h[\"neighborhood\"] == neighborhood]\n",
    "    print(f\"\\n{neighborhood} - Sample houses (first 5 of {len(houses)}):\")\n",
    "    for house in houses[:5]:\n",
    "        print(f\"  {house['bedrooms']} bed, {house['bathrooms']} bath, {house['sqft_living']} sqft, Grade: {house['grade']}, Waterfront: {house['waterfront']}\")"
   ]
  },
  {
   "cell_type": "code",
   "execution_count": 23,
   "metadata": {},
   "outputs": [
    {
     "name": "stdout",
     "output_type": "stream",
     "text": [
      "Created neighborhood_data\\evergreen_estates.csv with 25 houses\n",
      "\n",
      "Evergreen Estates - Sample houses (first 5 of 25):\n",
      "  6 bed, 5.0 bath, 4295 sqft, Grade: 11, Waterfront: 0\n",
      "  6 bed, 3.5 bath, 7965 sqft, Grade: 12, Waterfront: 0\n",
      "  4 bed, 5.0 bath, 4063 sqft, Grade: 13, Waterfront: 0\n",
      "  5 bed, 3.75 bath, 7120 sqft, Grade: 11, Waterfront: 0\n",
      "  4 bed, 6.5 bath, 5406 sqft, Grade: 10, Waterfront: 0\n",
      "Created neighborhood_data\\cedar_grove.csv with 200 houses\n",
      "\n",
      "Cedar Grove - Sample houses (first 5 of 200):\n",
      "  2 bed, 1.25 bath, 809 sqft, Grade: 6, Waterfront: 0\n",
      "  3 bed, 1.0 bath, 1112 sqft, Grade: 5, Waterfront: 0\n",
      "  2 bed, 1.5 bath, 855 sqft, Grade: 5, Waterfront: 0\n",
      "  3 bed, 1.25 bath, 1169 sqft, Grade: 5, Waterfront: 0\n",
      "  2 bed, 1.25 bath, 929 sqft, Grade: 6, Waterfront: 0\n",
      "Created neighborhood_data\\greenfield_commons.csv with 250 houses\n",
      "\n",
      "Greenfield Commons - Sample houses (first 5 of 250):\n",
      "  4 bed, 2.25 bath, 1871 sqft, Grade: 7, Waterfront: 0\n",
      "  3 bed, 2.5 bath, 1689 sqft, Grade: 7, Waterfront: 0\n",
      "  4 bed, 2.5 bath, 1968 sqft, Grade: 7, Waterfront: 0\n",
      "  3 bed, 2.5 bath, 1955 sqft, Grade: 8, Waterfront: 0\n",
      "  4 bed, 2.5 bath, 1882 sqft, Grade: 7, Waterfront: 0\n",
      "Created neighborhood_data\\parkside_meadows.csv with 200 houses\n",
      "\n",
      "Parkside Meadows - Sample houses (first 5 of 200):\n",
      "  4 bed, 2.5 bath, 2000 sqft, Grade: 7, Waterfront: 0\n",
      "  4 bed, 2.5 bath, 2254 sqft, Grade: 9, Waterfront: 0\n",
      "  4 bed, 2.25 bath, 2366 sqft, Grade: 9, Waterfront: 0\n",
      "  3 bed, 2.0 bath, 2294 sqft, Grade: 7, Waterfront: 0\n",
      "  4 bed, 2.25 bath, 1967 sqft, Grade: 9, Waterfront: 0\n",
      "Created neighborhood_data\\shoreline_terrace.csv with 100 houses\n",
      "\n",
      "Shoreline Terrace - Sample houses (first 5 of 100):\n",
      "  2 bed, 2.25 bath, 2144 sqft, Grade: 7, Waterfront: 1\n",
      "  4 bed, 2.5 bath, 1837 sqft, Grade: 7, Waterfront: 1\n",
      "  2 bed, 2.5 bath, 1759 sqft, Grade: 9, Waterfront: 1\n",
      "  4 bed, 2.5 bath, 1791 sqft, Grade: 7, Waterfront: 1\n",
      "  3 bed, 1.75 bath, 2042 sqft, Grade: 9, Waterfront: 1\n",
      "\n",
      "Generated 775 houses across 5 neighborhoods\n",
      "Data saved to separate CSV files in the 'neighborhood_data' directory\n"
     ]
    }
   ],
   "source": [
    "import random\n",
    "import csv\n",
    "import os\n",
    "\n",
    "def generate_houses(\n",
    "    neighborhood,       # Name of the neighborhood\n",
    "    size,               # Number of houses\n",
    "    bed_range,          # (min, max) bedrooms\n",
    "    bath_range,         # (min, max) bathrooms\n",
    "    sqft_range,         # (min, max) square footage\n",
    "    grade_range,        # (min, max) grade\n",
    "    waterfront_pct,     # Percentage of waterfront properties\n",
    "    view_range,         # (min, max) view rating\n",
    "    lot_multiplier,     # Multiplier for lot size\n",
    "    zipcode,            # Zipcode\n",
    "    coordinates         # (lat, long)\n",
    "):\n",
    "    \"\"\"Generate houses for a neighborhood with specified characteristics.\"\"\"\n",
    "    houses = []\n",
    "    \n",
    "    # Extract ranges\n",
    "    min_bed, max_bed = bed_range\n",
    "    min_bath, max_bath = bath_range\n",
    "    min_sqft, max_sqft = sqft_range\n",
    "    min_grade, max_grade = grade_range\n",
    "    min_view, max_view = view_range\n",
    "    lat, long = coordinates\n",
    "    \n",
    "    # Bathroom options (standard increments)\n",
    "    bath_options = [0.5, 0.75, 1.0, 1.25, 1.5, 1.75, 2.0, 2.25, 2.5, 2.75, 3.0, \n",
    "                   3.25, 3.5, 3.75, 4.0, 4.5, 5.0, 5.5, 6.0, 6.5, 7.0]\n",
    "    valid_bath_options = [b for b in bath_options if min_bath <= b <= max_bath]\n",
    "    \n",
    "    # Floor options\n",
    "    floor_options = [1.0, 1.5, 2.0, 2.5, 3.0]\n",
    "    \n",
    "    for i in range(size):\n",
    "        # Generate ID\n",
    "        id_num = str(random.randint(1000000000, 9999999999))\n",
    "        \n",
    "        # Generate basic features\n",
    "        bedrooms = random.randint(min_bed, max_bed)\n",
    "        bathrooms = random.choice(valid_bath_options)\n",
    "        sqft_living = random.randint(min_sqft, max_sqft)\n",
    "        \n",
    "        # Lot size based on multiplier (with some randomness)\n",
    "        sqft_lot = int(sqft_living * lot_multiplier * random.uniform(0.9, 1.1))\n",
    "        \n",
    "        # Floor options\n",
    "        floors = random.choice(floor_options)\n",
    "        \n",
    "        # Waterfront based on percentage\n",
    "        waterfront = 1 if random.random() < (waterfront_pct / 100) else 0\n",
    "        \n",
    "        # View rating\n",
    "        view = random.randint(min_view, max_view)\n",
    "        \n",
    "        # Condition rating (1-5, mostly 3-5 for populated areas)\n",
    "        condition = random.randint(3, 5)\n",
    "        \n",
    "        # Grade\n",
    "        grade = random.randint(min_grade, max_grade)\n",
    "        \n",
    "        # Above ground and basement\n",
    "        if floors < 1.5:\n",
    "            sqft_above = sqft_living\n",
    "            sqft_basement = 0\n",
    "        else:\n",
    "            sqft_above = int(sqft_living * random.uniform(0.6, 0.8))\n",
    "            sqft_basement = sqft_living - sqft_above\n",
    "        \n",
    "        # Year built (most between 1970-2015)\n",
    "        yr_built = random.randint(1970, 2015)\n",
    "        \n",
    "        # Year renovated (0 means no renovation)\n",
    "        yr_renovated = 0\n",
    "        if yr_built < 2000 and random.random() < 0.3:\n",
    "            yr_renovated = random.randint(yr_built + 10, 2023)\n",
    "        \n",
    "        # Small variations in lat/long to spread houses out\n",
    "        house_lat = lat + random.uniform(-0.01, 0.01)\n",
    "        house_long = long + random.uniform(-0.01, 0.01)\n",
    "        \n",
    "        # Living area and lot 15 years ago (slightly smaller)\n",
    "        sqft_living15 = int(sqft_living * random.uniform(0.85, 0.95))\n",
    "        sqft_lot15 = int(sqft_lot * random.uniform(0.9, 1.0))\n",
    "        \n",
    "        # Add house to result\n",
    "        house = {\n",
    "            'id': id_num,\n",
    "            'bedrooms': bedrooms,\n",
    "            'bathrooms': bathrooms,\n",
    "            'sqft_living': sqft_living,\n",
    "            'sqft_lot': sqft_lot,\n",
    "            'floors': floors,\n",
    "            'waterfront': waterfront,\n",
    "            'view': view,\n",
    "            'condition': condition,\n",
    "            'grade': grade,\n",
    "            'sqft_above': sqft_above,\n",
    "            'sqft_basement': sqft_basement,\n",
    "            'yr_built': yr_built,\n",
    "            'yr_renovated': yr_renovated,\n",
    "            'zipcode': zipcode,\n",
    "            'lat': house_lat,\n",
    "            'long': house_long,\n",
    "            'sqft_living15': sqft_living15,\n",
    "            'sqft_lot15': sqft_lot15,\n",
    "            'neighborhood': neighborhood\n",
    "        }\n",
    "        houses.append(house)\n",
    "    \n",
    "    return houses\n",
    "\n",
    "# Create a directory to store CSV files\n",
    "output_dir = \"neighborhood_data\"\n",
    "os.makedirs(output_dir, exist_ok=True)\n",
    "\n",
    "# Dictionary to store houses by neighborhood\n",
    "neighborhood_houses = {}\n",
    "\n",
    "# Field names for CSV\n",
    "fieldnames = ['id', 'bedrooms', 'bathrooms', 'sqft_living', 'sqft_lot', 'floors',\n",
    "             'waterfront', 'view', 'condition', 'grade', 'sqft_above', 'sqft_basement',\n",
    "             'yr_built', 'yr_renovated', 'zipcode', 'lat', 'long',\n",
    "             'sqft_living15', 'sqft_lot15', 'neighborhood']\n",
    "\n",
    "# 1. Evergreen Estates (Luxury Mansions)\n",
    "houses = generate_houses(\n",
    "    neighborhood=\"Evergreen Estates\",\n",
    "    size=25,\n",
    "    bed_range=(4, 6),\n",
    "    bath_range=(3.5, 7.0),\n",
    "    sqft_range=(4000, 9000),\n",
    "    grade_range=(10, 13),\n",
    "    waterfront_pct=40,\n",
    "    view_range=(2, 4),\n",
    "    lot_multiplier=3.0,\n",
    "    zipcode=\"98039\",\n",
    "    coordinates=(47.6288, -122.2313)\n",
    ")\n",
    "neighborhood_houses[\"Evergreen Estates\"] = houses\n",
    "\n",
    "# 2. Cedar Grove (Government Housing)\n",
    "houses = generate_houses(\n",
    "    neighborhood=\"Cedar Grove\",\n",
    "    size=200,\n",
    "    bed_range=(2, 3),\n",
    "    bath_range=(1.0, 1.5),\n",
    "    sqft_range=(800, 1200),\n",
    "    grade_range=(5, 6),\n",
    "    waterfront_pct=0,\n",
    "    view_range=(0, 1),\n",
    "    lot_multiplier=1.2,\n",
    "    zipcode=\"98178\",\n",
    "    coordinates=(47.4924, -122.2359)\n",
    ")\n",
    "neighborhood_houses[\"Cedar Grove\"] = houses\n",
    "\n",
    "# 3. Greenfield Commons (Middle Class Neighborhood 1)\n",
    "houses = generate_houses(\n",
    "    neighborhood=\"Greenfield Commons\",\n",
    "    size=250,\n",
    "    bed_range=(3, 4),\n",
    "    bath_range=(2.0, 2.5),\n",
    "    sqft_range=(1600, 2200),\n",
    "    grade_range=(7, 8),\n",
    "    waterfront_pct=0,\n",
    "    view_range=(0, 2),\n",
    "    lot_multiplier=2.0,\n",
    "    zipcode=\"98052\",\n",
    "    coordinates=(47.6769, -122.1069)\n",
    ")\n",
    "neighborhood_houses[\"Greenfield Commons\"] = houses\n",
    "\n",
    "# 4. Parkside Meadows (Middle Class Neighborhood 2)\n",
    "houses = generate_houses(\n",
    "    neighborhood=\"Parkside Meadows\",\n",
    "    size=200,\n",
    "    bed_range=(3, 4),\n",
    "    bath_range=(2.0, 2.5),\n",
    "    sqft_range=(1800, 2400),\n",
    "    grade_range=(7, 9),\n",
    "    waterfront_pct=0,\n",
    "    view_range=(0, 3),\n",
    "    lot_multiplier=2.5,\n",
    "    zipcode=\"98074\",\n",
    "    coordinates=(47.6157, -122.0355)\n",
    ")\n",
    "neighborhood_houses[\"Parkside Meadows\"] = houses\n",
    "\n",
    "# 5. Shoreline Terrace (Beachfront Community)\n",
    "houses = generate_houses(\n",
    "    neighborhood=\"Shoreline Terrace\",\n",
    "    size=100,\n",
    "    bed_range=(2, 4),\n",
    "    bath_range=(1.5, 2.5),\n",
    "    sqft_range=(1500, 2500),\n",
    "    grade_range=(7, 9),\n",
    "    waterfront_pct=100,\n",
    "    view_range=(3, 4),\n",
    "    lot_multiplier=1.8,\n",
    "    zipcode=\"98166\",\n",
    "    coordinates=(47.4435, -122.3569)\n",
    ")\n",
    "neighborhood_houses[\"Shoreline Terrace\"] = houses\n",
    "\n",
    "# Write each neighborhood to its own CSV file\n",
    "total_houses = 0\n",
    "for neighborhood, houses in neighborhood_houses.items():\n",
    "    # Create a filename-friendly version of the neighborhood name\n",
    "    filename = neighborhood.replace(\" \", \"_\").lower() + \".csv\"\n",
    "    filepath = os.path.join(output_dir, filename)\n",
    "    \n",
    "    # Write the CSV\n",
    "    with open(filepath, 'w', newline='') as f:\n",
    "        writer = csv.DictWriter(f, fieldnames=fieldnames)\n",
    "        writer.writeheader()\n",
    "        writer.writerows(houses)\n",
    "    \n",
    "    total_houses += len(houses)\n",
    "    print(f\"Created {filepath} with {len(houses)} houses\")\n",
    "    \n",
    "    # Sample output - display first 5 houses from each neighborhood\n",
    "    print(f\"\\n{neighborhood} - Sample houses (first 5 of {len(houses)}):\")\n",
    "    for house in houses[:5]:\n",
    "        print(f\"  {house['bedrooms']} bed, {house['bathrooms']} bath, {house['sqft_living']} sqft, Grade: {house['grade']}, Waterfront: {house['waterfront']}\")\n",
    "\n",
    "print(f\"\\nGenerated {total_houses} houses across 5 neighborhoods\")\n",
    "print(f\"Data saved to separate CSV files in the '{output_dir}' directory\")"
   ]
  }
 ],
 "metadata": {
  "application/vnd.databricks.v1+notebook": {
   "computePreferences": null,
   "dashboards": [],
   "environmentMetadata": {
    "base_environment": "",
    "environment_version": "1"
   },
   "inputWidgetPreferences": null,
   "language": "python",
   "notebookMetadata": {
    "pythonIndentUnit": 4
   },
   "notebookName": "(Clone) (Clone) scikit-learn_model",
   "widgets": {}
  },
  "kernelspec": {
   "display_name": "Python 3",
   "language": "python",
   "name": "python3"
  },
  "language_info": {
   "codemirror_mode": {
    "name": "ipython",
    "version": 3
   },
   "file_extension": ".py",
   "mimetype": "text/x-python",
   "name": "python",
   "nbconvert_exporter": "python",
   "pygments_lexer": "ipython3",
   "version": "3.11.4"
  }
 },
 "nbformat": 4,
 "nbformat_minor": 0
}
